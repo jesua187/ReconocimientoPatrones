{
  "nbformat": 4,
  "nbformat_minor": 0,
  "metadata": {
    "colab": {
      "name": "InvCorta2.ipynb",
      "provenance": [],
      "authorship_tag": "ABX9TyPaQedRY7XLf5AWc0hQ6xDG",
      "include_colab_link": true
    },
    "kernelspec": {
      "name": "python3",
      "display_name": "Python 3"
    },
    "language_info": {
      "name": "python"
    }
  },
  "cells": [
    {
      "cell_type": "markdown",
      "metadata": {
        "id": "view-in-github",
        "colab_type": "text"
      },
      "source": [
        "<a href=\"https://colab.research.google.com/github/jesua187/ReconocimientoPatrones/blob/main/InvCorta2.ipynb\" target=\"_parent\"><img src=\"https://colab.research.google.com/assets/colab-badge.svg\" alt=\"Open In Colab\"/></a>"
      ]
    },
    {
      "cell_type": "markdown",
      "metadata": {
        "id": "N3u5b3XC8LGo"
      },
      "source": [
        "El objetivo consiste en crear una notebook,\n",
        "donde a partir de un dataset de su elección, pueda llevar a cabo diferentes técnicas de pre-procesado, así\n",
        "como análisis exploratorio de los datos. Debe tener como mínimo las siguientes técnicas (no se limita a\n",
        "estos):\n",
        "- Aplicación de normalización o estandarización de datos.\n",
        "- Técnica de sustitución de valores faltantes.\n",
        "- Técnica de detección/eliminación de outliers.\n",
        "- Análisis exploratorio de datos. "
      ]
    },
    {
      "cell_type": "markdown",
      "metadata": {
        "id": "pRZGqKXaoLMX"
      },
      "source": [
        "se hace uso del dataset \"\n",
        "Breast Cancer Data Set\", el cual se puede obtener y detallar en este sitio: http://archive.ics.uci.edu/ml/datasets/Breast+Cancer"
      ]
    },
    {
      "cell_type": "markdown",
      "metadata": {
        "id": "qb3xlL16M_6R"
      },
      "source": [
        "Primeramente procedemos a cargar las librerias necesarias:"
      ]
    },
    {
      "cell_type": "code",
      "metadata": {
        "id": "Vzt0hQZ2NSB7"
      },
      "source": [
        "import numpy as np\n",
        "import pandas as pd\n",
        "from matplotlib import pyplot as plt\n",
        "import seaborn as sns\n",
        "%matplotlib inline"
      ],
      "execution_count": 13,
      "outputs": []
    },
    {
      "cell_type": "markdown",
      "metadata": {
        "id": "eeTO0eZCOKJf"
      },
      "source": [
        "Se procede a cargar el archivo:"
      ]
    },
    {
      "cell_type": "code",
      "metadata": {
        "id": "5aNRG856tY64"
      },
      "source": [
        "breast_cancer = pd.read_csv(\"breast-cancer.data\")"
      ],
      "execution_count": 14,
      "outputs": []
    },
    {
      "cell_type": "markdown",
      "metadata": {
        "id": "EEVdZjXat37F"
      },
      "source": [
        "Visualizamos las primeras lineas:"
      ]
    },
    {
      "cell_type": "code",
      "metadata": {
        "colab": {
          "base_uri": "https://localhost:8080/"
        },
        "id": "z9rDq4H0uGzE",
        "outputId": "2f8b950c-8478-406b-88cb-d68dc48ebca8"
      },
      "source": [
        "breast_cancer.head"
      ],
      "execution_count": 15,
      "outputs": [
        {
          "output_type": "execute_result",
          "data": {
            "text/plain": [
              "<bound method NDFrame.head of      no-recurrence-events  30-39  premeno  30-34  ...  3   left   left_low no.1\n",
              "0    no-recurrence-events  40-49  premeno  20-24  ...  2  right   right_up   no\n",
              "1    no-recurrence-events  40-49  premeno  20-24  ...  2   left   left_low   no\n",
              "2    no-recurrence-events  60-69     ge40  15-19  ...  2  right    left_up   no\n",
              "3    no-recurrence-events  40-49  premeno    0-4  ...  2  right  right_low   no\n",
              "4    no-recurrence-events  60-69     ge40  15-19  ...  2   left   left_low   no\n",
              "..                    ...    ...      ...    ...  ... ..    ...        ...  ...\n",
              "280     recurrence-events  30-39  premeno  30-34  ...  2   left    left_up   no\n",
              "281     recurrence-events  30-39  premeno  20-24  ...  3   left    left_up  yes\n",
              "282     recurrence-events  60-69     ge40  20-24  ...  1  right    left_up   no\n",
              "283     recurrence-events  40-49     ge40  30-34  ...  3   left   left_low   no\n",
              "284     recurrence-events  50-59     ge40  30-34  ...  3   left   left_low   no\n",
              "\n",
              "[285 rows x 10 columns]>"
            ]
          },
          "metadata": {
            "tags": []
          },
          "execution_count": 15
        }
      ]
    },
    {
      "cell_type": "markdown",
      "metadata": {
        "id": "nusAmOf43XWs"
      },
      "source": [
        "Agregando encabezados de las columnas"
      ]
    },
    {
      "cell_type": "code",
      "metadata": {
        "id": "q-0ZSh2y8GMZ",
        "colab": {
          "base_uri": "https://localhost:8080/"
        },
        "outputId": "285f5c75-9ab6-4c03-9b8f-b1542a75cade"
      },
      "source": [
        "breast_cancer.columns"
      ],
      "execution_count": 24,
      "outputs": [
        {
          "output_type": "execute_result",
          "data": {
            "text/plain": [
              "Index(['Class', 'age', 'menopause', 'tumor size', 'inv nodes', 'node caps',\n",
              "       'deg maling', 'breast', 'breast quad', 'irradiat'],\n",
              "      dtype='object')"
            ]
          },
          "metadata": {
            "tags": []
          },
          "execution_count": 24
        }
      ]
    },
    {
      "cell_type": "code",
      "metadata": {
        "id": "YLlQcM3j4C1i"
      },
      "source": [
        "breast_cancer = pd.read_csv(\"breast-cancer.data\", names = breast_cancer.columns)"
      ],
      "execution_count": 25,
      "outputs": []
    },
    {
      "cell_type": "markdown",
      "metadata": {
        "id": "yhIXH7k04HPP"
      },
      "source": [
        "Visualización con encabezados"
      ]
    },
    {
      "cell_type": "code",
      "metadata": {
        "colab": {
          "base_uri": "https://localhost:8080/",
          "height": 204
        },
        "id": "r1llzJ9V4V3t",
        "outputId": "4938375c-35b7-4a1a-aaab-5e88519ce2c1"
      },
      "source": [
        "breast_cancer.head()"
      ],
      "execution_count": 26,
      "outputs": [
        {
          "output_type": "execute_result",
          "data": {
            "text/html": [
              "<div>\n",
              "<style scoped>\n",
              "    .dataframe tbody tr th:only-of-type {\n",
              "        vertical-align: middle;\n",
              "    }\n",
              "\n",
              "    .dataframe tbody tr th {\n",
              "        vertical-align: top;\n",
              "    }\n",
              "\n",
              "    .dataframe thead th {\n",
              "        text-align: right;\n",
              "    }\n",
              "</style>\n",
              "<table border=\"1\" class=\"dataframe\">\n",
              "  <thead>\n",
              "    <tr style=\"text-align: right;\">\n",
              "      <th></th>\n",
              "      <th>Class</th>\n",
              "      <th>age</th>\n",
              "      <th>menopause</th>\n",
              "      <th>tumor size</th>\n",
              "      <th>inv nodes</th>\n",
              "      <th>node caps</th>\n",
              "      <th>deg maling</th>\n",
              "      <th>breast</th>\n",
              "      <th>breast quad</th>\n",
              "      <th>irradiat</th>\n",
              "    </tr>\n",
              "  </thead>\n",
              "  <tbody>\n",
              "    <tr>\n",
              "      <th>0</th>\n",
              "      <td>no-recurrence-events</td>\n",
              "      <td>30-39</td>\n",
              "      <td>premeno</td>\n",
              "      <td>30-34</td>\n",
              "      <td>0-2</td>\n",
              "      <td>no</td>\n",
              "      <td>3</td>\n",
              "      <td>left</td>\n",
              "      <td>left_low</td>\n",
              "      <td>no</td>\n",
              "    </tr>\n",
              "    <tr>\n",
              "      <th>1</th>\n",
              "      <td>no-recurrence-events</td>\n",
              "      <td>40-49</td>\n",
              "      <td>premeno</td>\n",
              "      <td>20-24</td>\n",
              "      <td>0-2</td>\n",
              "      <td>no</td>\n",
              "      <td>2</td>\n",
              "      <td>right</td>\n",
              "      <td>right_up</td>\n",
              "      <td>no</td>\n",
              "    </tr>\n",
              "    <tr>\n",
              "      <th>2</th>\n",
              "      <td>no-recurrence-events</td>\n",
              "      <td>40-49</td>\n",
              "      <td>premeno</td>\n",
              "      <td>20-24</td>\n",
              "      <td>0-2</td>\n",
              "      <td>no</td>\n",
              "      <td>2</td>\n",
              "      <td>left</td>\n",
              "      <td>left_low</td>\n",
              "      <td>no</td>\n",
              "    </tr>\n",
              "    <tr>\n",
              "      <th>3</th>\n",
              "      <td>no-recurrence-events</td>\n",
              "      <td>60-69</td>\n",
              "      <td>ge40</td>\n",
              "      <td>15-19</td>\n",
              "      <td>0-2</td>\n",
              "      <td>no</td>\n",
              "      <td>2</td>\n",
              "      <td>right</td>\n",
              "      <td>left_up</td>\n",
              "      <td>no</td>\n",
              "    </tr>\n",
              "    <tr>\n",
              "      <th>4</th>\n",
              "      <td>no-recurrence-events</td>\n",
              "      <td>40-49</td>\n",
              "      <td>premeno</td>\n",
              "      <td>0-4</td>\n",
              "      <td>0-2</td>\n",
              "      <td>no</td>\n",
              "      <td>2</td>\n",
              "      <td>right</td>\n",
              "      <td>right_low</td>\n",
              "      <td>no</td>\n",
              "    </tr>\n",
              "  </tbody>\n",
              "</table>\n",
              "</div>"
            ],
            "text/plain": [
              "                  Class    age menopause  ... breast breast quad irradiat\n",
              "0  no-recurrence-events  30-39   premeno  ...   left    left_low       no\n",
              "1  no-recurrence-events  40-49   premeno  ...  right    right_up       no\n",
              "2  no-recurrence-events  40-49   premeno  ...   left    left_low       no\n",
              "3  no-recurrence-events  60-69      ge40  ...  right     left_up       no\n",
              "4  no-recurrence-events  40-49   premeno  ...  right   right_low       no\n",
              "\n",
              "[5 rows x 10 columns]"
            ]
          },
          "metadata": {
            "tags": []
          },
          "execution_count": 26
        }
      ]
    },
    {
      "cell_type": "markdown",
      "metadata": {
        "id": "HMlhJjFcGu0Z"
      },
      "source": [
        "## Analisis Exploratoio de Datos"
      ]
    },
    {
      "cell_type": "markdown",
      "metadata": {
        "id": "orwNUQTDBLHc"
      },
      "source": [
        "Primeramente procedemos a analizar el tipo de datos de los atributos "
      ]
    },
    {
      "cell_type": "code",
      "metadata": {
        "colab": {
          "base_uri": "https://localhost:8080/"
        },
        "id": "5N3QAvJLBU3i",
        "outputId": "4fedcf8e-c18d-49f4-c434-147f01e99086"
      },
      "source": [
        "breast_cancer.dtypes"
      ],
      "execution_count": 28,
      "outputs": [
        {
          "output_type": "execute_result",
          "data": {
            "text/plain": [
              "Class          object\n",
              "age            object\n",
              "menopause      object\n",
              "tumor size     object\n",
              "inv nodes      object\n",
              "node caps      object\n",
              "deg maling      int64\n",
              "breast         object\n",
              "breast quad    object\n",
              "irradiat       object\n",
              "dtype: object"
            ]
          },
          "metadata": {
            "tags": []
          },
          "execution_count": 28
        }
      ]
    },
    {
      "cell_type": "markdown",
      "metadata": {
        "id": "qI-pOEP-Bmce"
      },
      "source": [
        "Notese que realmente el unico dato númerico(en este caso entero) que se tiene es el grado de malignidad del tumor"
      ]
    },
    {
      "cell_type": "markdown",
      "metadata": {
        "id": "NeSlv1ijHq5m"
      },
      "source": [
        "Se procede a estudiar cada atributo"
      ]
    },
    {
      "cell_type": "code",
      "metadata": {
        "colab": {
          "base_uri": "https://localhost:8080/"
        },
        "id": "mXG0sr2IHxDY",
        "outputId": "80d4ef13-83d0-4c72-9789-d7f658338953"
      },
      "source": [
        "pd.unique(breast_cancer['Class'])"
      ],
      "execution_count": 32,
      "outputs": [
        {
          "output_type": "execute_result",
          "data": {
            "text/plain": [
              "array(['no-recurrence-events', 'recurrence-events'], dtype=object)"
            ]
          },
          "metadata": {
            "tags": []
          },
          "execution_count": 32
        }
      ]
    },
    {
      "cell_type": "code",
      "metadata": {
        "colab": {
          "base_uri": "https://localhost:8080/"
        },
        "id": "G9kl_PTyHB2Z",
        "outputId": "93aecee2-4a06-429e-f581-382bd6527fde"
      },
      "source": [
        "breast_cancer['Class'].describe()"
      ],
      "execution_count": 31,
      "outputs": [
        {
          "output_type": "execute_result",
          "data": {
            "text/plain": [
              "count                      286\n",
              "unique                       2\n",
              "top       no-recurrence-events\n",
              "freq                       201\n",
              "Name: Class, dtype: object"
            ]
          },
          "metadata": {
            "tags": []
          },
          "execution_count": 31
        }
      ]
    },
    {
      "cell_type": "code",
      "metadata": {
        "colab": {
          "base_uri": "https://localhost:8080/"
        },
        "id": "ddKLRcrwIw7p",
        "outputId": "4d158977-53e1-4de7-9201-5a53d2199e4c"
      },
      "source": [
        "pd.unique(breast_cancer['age'])"
      ],
      "execution_count": 33,
      "outputs": [
        {
          "output_type": "execute_result",
          "data": {
            "text/plain": [
              "array(['30-39', '40-49', '60-69', '50-59', '70-79', '20-29'], dtype=object)"
            ]
          },
          "metadata": {
            "tags": []
          },
          "execution_count": 33
        }
      ]
    },
    {
      "cell_type": "markdown",
      "metadata": {
        "id": "3vv4wVbaJcKv"
      },
      "source": [
        "Notese que el rango de edades va desde 20 hasta 79"
      ]
    },
    {
      "cell_type": "code",
      "metadata": {
        "colab": {
          "base_uri": "https://localhost:8080/"
        },
        "id": "dTgSHqKDIw70",
        "outputId": "09eed4e5-b04a-44ed-8824-0334f284ae9e"
      },
      "source": [
        "breast_cancer['age'].describe()"
      ],
      "execution_count": 34,
      "outputs": [
        {
          "output_type": "execute_result",
          "data": {
            "text/plain": [
              "count       286\n",
              "unique        6\n",
              "top       50-59\n",
              "freq         96\n",
              "Name: age, dtype: object"
            ]
          },
          "metadata": {
            "tags": []
          },
          "execution_count": 34
        }
      ]
    },
    {
      "cell_type": "code",
      "metadata": {
        "colab": {
          "base_uri": "https://localhost:8080/"
        },
        "id": "_lPSG5kZJ1oZ",
        "outputId": "21f255cb-b2fb-4b4c-c1e0-6138466a2175"
      },
      "source": [
        "pd.unique(breast_cancer['menopause'])"
      ],
      "execution_count": 36,
      "outputs": [
        {
          "output_type": "execute_result",
          "data": {
            "text/plain": [
              "array(['premeno', 'ge40', 'lt40'], dtype=object)"
            ]
          },
          "metadata": {
            "tags": []
          },
          "execution_count": 36
        }
      ]
    },
    {
      "cell_type": "code",
      "metadata": {
        "colab": {
          "base_uri": "https://localhost:8080/"
        },
        "id": "Ah4PGzPZJ1oa",
        "outputId": "b0c630b6-8270-4cd4-c1ef-dc6b162d90c6"
      },
      "source": [
        "breast_cancer['menopause'].describe()"
      ],
      "execution_count": 37,
      "outputs": [
        {
          "output_type": "execute_result",
          "data": {
            "text/plain": [
              "count         286\n",
              "unique          3\n",
              "top       premeno\n",
              "freq          150\n",
              "Name: menopause, dtype: object"
            ]
          },
          "metadata": {
            "tags": []
          },
          "execution_count": 37
        }
      ]
    },
    {
      "cell_type": "code",
      "metadata": {
        "colab": {
          "base_uri": "https://localhost:8080/"
        },
        "id": "_CFlmmt-MHFg",
        "outputId": "8884a470-e2f8-4c4e-eb5f-ba904ce08409"
      },
      "source": [
        "pd.unique(breast_cancer['tumor size'])"
      ],
      "execution_count": 38,
      "outputs": [
        {
          "output_type": "execute_result",
          "data": {
            "text/plain": [
              "array(['30-34', '20-24', '15-19', '0-4', '25-29', '50-54', '10-14',\n",
              "       '40-44', '35-39', '5-9', '45-49'], dtype=object)"
            ]
          },
          "metadata": {
            "tags": []
          },
          "execution_count": 38
        }
      ]
    },
    {
      "cell_type": "markdown",
      "metadata": {
        "id": "E7hOtaN1MYYY"
      },
      "source": [
        "Notese que el rango de tamaños de tumor va desde 5 hasta 54"
      ]
    },
    {
      "cell_type": "code",
      "metadata": {
        "colab": {
          "base_uri": "https://localhost:8080/"
        },
        "id": "-VVnGsu8NEPo",
        "outputId": "8884a470-e2f8-4c4e-eb5f-ba904ce08409"
      },
      "source": [
        "pd.unique(breast_cancer['inv nodes'])"
      ],
      "execution_count": null,
      "outputs": [
        {
          "output_type": "execute_result",
          "data": {
            "text/plain": [
              "array(['30-34', '20-24', '15-19', '0-4', '25-29', '50-54', '10-14',\n",
              "       '40-44', '35-39', '5-9', '45-49'], dtype=object)"
            ]
          },
          "metadata": {
            "tags": []
          },
          "execution_count": 38
        }
      ]
    },
    {
      "cell_type": "code",
      "metadata": {
        "colab": {
          "base_uri": "https://localhost:8080/"
        },
        "id": "GNIkbMByMHFu",
        "outputId": "599593d7-f4a2-4b2f-dafe-0e291c82a718"
      },
      "source": [
        "breast_cancer['inv nodes'].describe()"
      ],
      "execution_count": 40,
      "outputs": [
        {
          "output_type": "execute_result",
          "data": {
            "text/plain": [
              "count     286\n",
              "unique      7\n",
              "top       0-2\n",
              "freq      213\n",
              "Name: inv nodes, dtype: object"
            ]
          },
          "metadata": {
            "tags": []
          },
          "execution_count": 40
        }
      ]
    },
    {
      "cell_type": "code",
      "metadata": {
        "colab": {
          "base_uri": "https://localhost:8080/"
        },
        "id": "mQwZc6PvPAtX",
        "outputId": "a018f4f5-f584-4cd3-fe9c-fe235a798413"
      },
      "source": [
        "pd.unique(breast_cancer['node caps'])"
      ],
      "execution_count": 41,
      "outputs": [
        {
          "output_type": "execute_result",
          "data": {
            "text/plain": [
              "array(['no', 'yes', '?'], dtype=object)"
            ]
          },
          "metadata": {
            "tags": []
          },
          "execution_count": 41
        }
      ]
    },
    {
      "cell_type": "markdown",
      "metadata": {
        "id": "nZPkUTO3PsoS"
      },
      "source": [
        "***Aca se encontraron valores de ? ***"
      ]
    },
    {
      "cell_type": "code",
      "metadata": {
        "colab": {
          "base_uri": "https://localhost:8080/"
        },
        "id": "_jK39bayPAta",
        "outputId": "9df34d23-60dd-4cdf-c257-d5d3cb3288db"
      },
      "source": [
        "breast_cancer['node caps'].describe()"
      ],
      "execution_count": 42,
      "outputs": [
        {
          "output_type": "execute_result",
          "data": {
            "text/plain": [
              "count     286\n",
              "unique      3\n",
              "top        no\n",
              "freq      222\n",
              "Name: node caps, dtype: object"
            ]
          },
          "metadata": {
            "tags": []
          },
          "execution_count": 42
        }
      ]
    },
    {
      "cell_type": "markdown",
      "metadata": {
        "id": "jNjNKHnGRtoT"
      },
      "source": [
        "### Faltan varios atributos de agregar"
      ]
    },
    {
      "cell_type": "code",
      "metadata": {
        "id": "Q1FRjzI1R5Ea"
      },
      "source": [
        "grouped_data = breast_cancer.groupby('Class')"
      ],
      "execution_count": 43,
      "outputs": []
    },
    {
      "cell_type": "code",
      "metadata": {
        "id": "gRkpCCcXSXn7",
        "outputId": "78441a7b-cd45-405e-f950-f933c0324fe4",
        "colab": {
          "base_uri": "https://localhost:8080/"
        }
      },
      "source": [
        "print(grouped_data)"
      ],
      "execution_count": 46,
      "outputs": [
        {
          "output_type": "execute_result",
          "data": {
            "text/plain": [
              "<pandas.core.groupby.generic.DataFrameGroupBy object at 0x7f7cf69b07d0>"
            ]
          },
          "metadata": {
            "tags": []
          },
          "execution_count": 46
        }
      ]
    }
  ]
}