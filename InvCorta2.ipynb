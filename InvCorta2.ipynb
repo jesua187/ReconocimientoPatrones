{
  "nbformat": 4,
  "nbformat_minor": 0,
  "metadata": {
    "colab": {
      "name": "InvCorta2.ipynb",
      "provenance": [],
      "authorship_tag": "ABX9TyMJBsQS9QQfnD+Pyahvwhat",
      "include_colab_link": true
    },
    "kernelspec": {
      "name": "python3",
      "display_name": "Python 3"
    },
    "language_info": {
      "name": "python"
    }
  },
  "cells": [
    {
      "cell_type": "markdown",
      "metadata": {
        "id": "view-in-github",
        "colab_type": "text"
      },
      "source": [
        "<a href=\"https://colab.research.google.com/github/jesua187/ReconocimientoPatrones/blob/main/InvCorta2.ipynb\" target=\"_parent\"><img src=\"https://colab.research.google.com/assets/colab-badge.svg\" alt=\"Open In Colab\"/></a>"
      ]
    },
    {
      "cell_type": "markdown",
      "metadata": {
        "id": "N3u5b3XC8LGo"
      },
      "source": [
        "El objetivo consiste en crear una notebook,\n",
        "donde a partir de un dataset de su elección, pueda llevar a cabo diferentes técnicas de pre-procesado, así\n",
        "como análisis exploratorio de los datos. Debe tener como mínimo las siguientes técnicas (no se limita a\n",
        "estos):\n",
        "- Aplicación de normalización o estandarización de datos.\n",
        "- Técnica de sustitución de valores faltantes.\n",
        "- Técnica de detección/eliminación de outliers.\n",
        "- Análisis exploratorio de datos. "
      ]
    },
    {
      "cell_type": "markdown",
      "metadata": {
        "id": "pRZGqKXaoLMX"
      },
      "source": [
        "se hace uso del dataset \"\n",
        "Breast Cancer Data Set\", el cual se puede obtener y detallar en este sitio: http://archive.ics.uci.edu/ml/datasets/Breast+Cancer"
      ]
    },
    {
      "cell_type": "markdown",
      "metadata": {
        "id": "qb3xlL16M_6R"
      },
      "source": [
        "Primeramente procedemos a cargar las librerias necesarias:"
      ]
    },
    {
      "cell_type": "code",
      "metadata": {
        "id": "Vzt0hQZ2NSB7"
      },
      "source": [
        "import numpy as np\n",
        "import pandas as pd\n",
        "from matplotlib import pyplot as plt\n",
        "import seaborn as sns\n",
        "%matplotlib inline"
      ],
      "execution_count": 2,
      "outputs": []
    },
    {
      "cell_type": "markdown",
      "metadata": {
        "id": "eeTO0eZCOKJf"
      },
      "source": [
        "Se procede a cargar el archivo:"
      ]
    },
    {
      "cell_type": "code",
      "metadata": {
        "id": "5aNRG856tY64"
      },
      "source": [
        "houses_votes = pd.read_csv(\"house-votes-84.data\")"
      ],
      "execution_count": 7,
      "outputs": []
    },
    {
      "cell_type": "markdown",
      "metadata": {
        "id": "EEVdZjXat37F"
      },
      "source": [
        "Visualizamos las primeras lineas:"
      ]
    },
    {
      "cell_type": "code",
      "metadata": {
        "colab": {
          "base_uri": "https://localhost:8080/"
        },
        "id": "z9rDq4H0uGzE",
        "outputId": "264e91e5-5864-4733-896a-4227118f3fc0"
      },
      "source": [
        "houses_votes.head"
      ],
      "execution_count": 8,
      "outputs": [
        {
          "output_type": "execute_result",
          "data": {
            "text/plain": [
              "<bound method NDFrame.head of      republican  n  y n.1 y.1 y.2 y.3 n.2 n.3 n.4 y.4  ? y.5 y.6 y.7 n.5 y.8\n",
              "0    republican  n  y   n   y   y   y   n   n   n   n  n   y   y   y   n   ?\n",
              "1      democrat  ?  y   y   ?   y   y   n   n   n   n  y   n   y   y   n   n\n",
              "2      democrat  n  y   y   n   ?   y   n   n   n   n  y   n   y   n   n   y\n",
              "3      democrat  y  y   y   n   y   y   n   n   n   n  y   ?   y   y   y   y\n",
              "4      democrat  n  y   y   n   y   y   n   n   n   n  n   n   y   y   y   y\n",
              "..          ... .. ..  ..  ..  ..  ..  ..  ..  ..  .. ..  ..  ..  ..  ..  ..\n",
              "429  republican  n  n   y   y   y   y   n   n   y   y  n   y   y   y   n   y\n",
              "430    democrat  n  n   y   n   n   n   y   y   y   y  n   n   n   n   n   y\n",
              "431  republican  n  ?   n   y   y   y   n   n   n   n  y   y   y   y   n   y\n",
              "432  republican  n  n   n   y   y   y   ?   ?   ?   ?  n   y   y   y   n   y\n",
              "433  republican  n  y   n   y   y   y   n   n   n   y  n   y   y   y   ?   n\n",
              "\n",
              "[434 rows x 17 columns]>"
            ]
          },
          "metadata": {
            "tags": []
          },
          "execution_count": 8
        }
      ]
    }
  ]
}