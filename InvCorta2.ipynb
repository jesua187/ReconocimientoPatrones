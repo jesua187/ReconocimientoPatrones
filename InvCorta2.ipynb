{
  "nbformat": 4,
  "nbformat_minor": 0,
  "metadata": {
    "colab": {
      "name": "InvCorta2.ipynb",
      "provenance": [],
      "authorship_tag": "ABX9TyP4EaocnsyHHG3Qbl+/ptoF",
      "include_colab_link": true
    },
    "kernelspec": {
      "name": "python3",
      "display_name": "Python 3"
    },
    "language_info": {
      "name": "python"
    }
  },
  "cells": [
    {
      "cell_type": "markdown",
      "metadata": {
        "id": "view-in-github",
        "colab_type": "text"
      },
      "source": [
        "<a href=\"https://colab.research.google.com/github/jesua187/ReconocimientoPatrones/blob/main/InvCorta2.ipynb\" target=\"_parent\"><img src=\"https://colab.research.google.com/assets/colab-badge.svg\" alt=\"Open In Colab\"/></a>"
      ]
    },
    {
      "cell_type": "markdown",
      "metadata": {
        "id": "swWUin1y3q5z"
      },
      "source": [
        "# ***Investigación Corta II***"
      ]
    },
    {
      "cell_type": "markdown",
      "metadata": {
        "id": "N3u5b3XC8LGo"
      },
      "source": [
        "El objetivo consiste en crear una notebook,\n",
        "donde a partir de un dataset de su elección, pueda llevar a cabo diferentes técnicas de pre-procesado, así\n",
        "como análisis exploratorio de los datos. Debe tener como mínimo las siguientes técnicas (no se limita a\n",
        "estos):\n",
        "- Aplicación de normalización o estandarización de datos.\n",
        "- Técnica de sustitución de valores faltantes.\n",
        "- Técnica de detección/eliminación de outliers.\n",
        "- Análisis exploratorio de datos. "
      ]
    },
    {
      "cell_type": "markdown",
      "metadata": {
        "id": "pRZGqKXaoLMX"
      },
      "source": [
        "se hace uso del dataset \"\n",
        "Breast Cancer Data Set\", el cual se puede obtener y detallar en este sitio: http://archive.ics.uci.edu/ml/datasets/Breast+Cancer"
      ]
    },
    {
      "cell_type": "markdown",
      "metadata": {
        "id": "qb3xlL16M_6R"
      },
      "source": [
        "Primeramente procedemos a cargar las librerias necesarias:"
      ]
    },
    {
      "cell_type": "code",
      "metadata": {
        "id": "Vzt0hQZ2NSB7"
      },
      "source": [
        "import numpy as np\n",
        "import pandas as pd\n",
        "from matplotlib import pyplot as plt\n",
        "import seaborn as sns\n",
        "%matplotlib inline"
      ],
      "execution_count": 2,
      "outputs": []
    },
    {
      "cell_type": "markdown",
      "metadata": {
        "id": "eeTO0eZCOKJf"
      },
      "source": [
        "Se procede a cargar el archivo csv que contiene la data:"
      ]
    },
    {
      "cell_type": "code",
      "metadata": {
        "id": "5aNRG856tY64"
      },
      "source": [
        "breast_cancer = pd.read_csv(\"breast-cancer.data\")"
      ],
      "execution_count": 3,
      "outputs": []
    },
    {
      "cell_type": "markdown",
      "metadata": {
        "id": "EEVdZjXat37F"
      },
      "source": [
        "Visualizamos las primeras lineas con el fin de tener una primera perspectiva de como se ven los datos"
      ]
    },
    {
      "cell_type": "code",
      "metadata": {
        "colab": {
          "base_uri": "https://localhost:8080/"
        },
        "id": "z9rDq4H0uGzE",
        "outputId": "8a7ab656-ba7e-4da4-ce16-19fa2bd1a4a1"
      },
      "source": [
        "breast_cancer.head"
      ],
      "execution_count": null,
      "outputs": [
        {
          "output_type": "execute_result",
          "data": {
            "text/plain": [
              "<bound method NDFrame.head of      no-recurrence-events  30-39  premeno  30-34  ...  3   left   left_low no.1\n",
              "0    no-recurrence-events  40-49  premeno  20-24  ...  2  right   right_up   no\n",
              "1    no-recurrence-events  40-49  premeno  20-24  ...  2   left   left_low   no\n",
              "2    no-recurrence-events  60-69     ge40  15-19  ...  2  right    left_up   no\n",
              "3    no-recurrence-events  40-49  premeno    0-4  ...  2  right  right_low   no\n",
              "4    no-recurrence-events  60-69     ge40  15-19  ...  2   left   left_low   no\n",
              "..                    ...    ...      ...    ...  ... ..    ...        ...  ...\n",
              "280     recurrence-events  30-39  premeno  30-34  ...  2   left    left_up   no\n",
              "281     recurrence-events  30-39  premeno  20-24  ...  3   left    left_up  yes\n",
              "282     recurrence-events  60-69     ge40  20-24  ...  1  right    left_up   no\n",
              "283     recurrence-events  40-49     ge40  30-34  ...  3   left   left_low   no\n",
              "284     recurrence-events  50-59     ge40  30-34  ...  3   left   left_low   no\n",
              "\n",
              "[285 rows x 10 columns]>"
            ]
          },
          "metadata": {
            "tags": []
          },
          "execution_count": 9
        }
      ]
    },
    {
      "cell_type": "markdown",
      "metadata": {
        "id": "nusAmOf43XWs"
      },
      "source": [
        "Agregando encabezados de las columnas, primeramente se crea un arreglo con los  nombres de las columnas para despues colocarlo en la tabla de datos"
      ]
    },
    {
      "cell_type": "code",
      "metadata": {
        "id": "q-0ZSh2y8GMZ"
      },
      "source": [
        "column_names =['Class', 'age', 'menopause', 'tumor size', 'inv nodes', 'node caps',\n",
        "       'deg maling', 'breast', 'breast quad', 'irradiat']"
      ],
      "execution_count": 6,
      "outputs": []
    },
    {
      "cell_type": "code",
      "metadata": {
        "id": "YLlQcM3j4C1i"
      },
      "source": [
        "breast_cancer = pd.read_csv(\"breast-cancer.data\", names = column_names)"
      ],
      "execution_count": 7,
      "outputs": []
    },
    {
      "cell_type": "markdown",
      "metadata": {
        "id": "yhIXH7k04HPP"
      },
      "source": [
        "Se presenta ahora la visualización de la data con las primeras lineas con  su respectivo encabezado"
      ]
    },
    {
      "cell_type": "code",
      "metadata": {
        "colab": {
          "base_uri": "https://localhost:8080/",
          "height": 204
        },
        "id": "r1llzJ9V4V3t",
        "outputId": "bf5d9e47-9485-49b9-cdbf-af471ab1824e"
      },
      "source": [
        "breast_cancer.head()"
      ],
      "execution_count": null,
      "outputs": [
        {
          "output_type": "execute_result",
          "data": {
            "text/html": [
              "<div>\n",
              "<style scoped>\n",
              "    .dataframe tbody tr th:only-of-type {\n",
              "        vertical-align: middle;\n",
              "    }\n",
              "\n",
              "    .dataframe tbody tr th {\n",
              "        vertical-align: top;\n",
              "    }\n",
              "\n",
              "    .dataframe thead th {\n",
              "        text-align: right;\n",
              "    }\n",
              "</style>\n",
              "<table border=\"1\" class=\"dataframe\">\n",
              "  <thead>\n",
              "    <tr style=\"text-align: right;\">\n",
              "      <th></th>\n",
              "      <th>Class</th>\n",
              "      <th>age</th>\n",
              "      <th>menopause</th>\n",
              "      <th>tumor size</th>\n",
              "      <th>inv nodes</th>\n",
              "      <th>node caps</th>\n",
              "      <th>deg maling</th>\n",
              "      <th>breast</th>\n",
              "      <th>breast quad</th>\n",
              "      <th>irradiat</th>\n",
              "    </tr>\n",
              "  </thead>\n",
              "  <tbody>\n",
              "    <tr>\n",
              "      <th>0</th>\n",
              "      <td>no-recurrence-events</td>\n",
              "      <td>30-39</td>\n",
              "      <td>premeno</td>\n",
              "      <td>30-34</td>\n",
              "      <td>0-2</td>\n",
              "      <td>no</td>\n",
              "      <td>3</td>\n",
              "      <td>left</td>\n",
              "      <td>left_low</td>\n",
              "      <td>no</td>\n",
              "    </tr>\n",
              "    <tr>\n",
              "      <th>1</th>\n",
              "      <td>no-recurrence-events</td>\n",
              "      <td>40-49</td>\n",
              "      <td>premeno</td>\n",
              "      <td>20-24</td>\n",
              "      <td>0-2</td>\n",
              "      <td>no</td>\n",
              "      <td>2</td>\n",
              "      <td>right</td>\n",
              "      <td>right_up</td>\n",
              "      <td>no</td>\n",
              "    </tr>\n",
              "    <tr>\n",
              "      <th>2</th>\n",
              "      <td>no-recurrence-events</td>\n",
              "      <td>40-49</td>\n",
              "      <td>premeno</td>\n",
              "      <td>20-24</td>\n",
              "      <td>0-2</td>\n",
              "      <td>no</td>\n",
              "      <td>2</td>\n",
              "      <td>left</td>\n",
              "      <td>left_low</td>\n",
              "      <td>no</td>\n",
              "    </tr>\n",
              "    <tr>\n",
              "      <th>3</th>\n",
              "      <td>no-recurrence-events</td>\n",
              "      <td>60-69</td>\n",
              "      <td>ge40</td>\n",
              "      <td>15-19</td>\n",
              "      <td>0-2</td>\n",
              "      <td>no</td>\n",
              "      <td>2</td>\n",
              "      <td>right</td>\n",
              "      <td>left_up</td>\n",
              "      <td>no</td>\n",
              "    </tr>\n",
              "    <tr>\n",
              "      <th>4</th>\n",
              "      <td>no-recurrence-events</td>\n",
              "      <td>40-49</td>\n",
              "      <td>premeno</td>\n",
              "      <td>0-4</td>\n",
              "      <td>0-2</td>\n",
              "      <td>no</td>\n",
              "      <td>2</td>\n",
              "      <td>right</td>\n",
              "      <td>right_low</td>\n",
              "      <td>no</td>\n",
              "    </tr>\n",
              "  </tbody>\n",
              "</table>\n",
              "</div>"
            ],
            "text/plain": [
              "                  Class    age menopause  ... breast breast quad irradiat\n",
              "0  no-recurrence-events  30-39   premeno  ...   left    left_low       no\n",
              "1  no-recurrence-events  40-49   premeno  ...  right    right_up       no\n",
              "2  no-recurrence-events  40-49   premeno  ...   left    left_low       no\n",
              "3  no-recurrence-events  60-69      ge40  ...  right     left_up       no\n",
              "4  no-recurrence-events  40-49   premeno  ...  right   right_low       no\n",
              "\n",
              "[5 rows x 10 columns]"
            ]
          },
          "metadata": {
            "tags": []
          },
          "execution_count": 7
        }
      ]
    },
    {
      "cell_type": "markdown",
      "metadata": {
        "id": "HMlhJjFcGu0Z"
      },
      "source": [
        "## ***Analisis Exploratorio de Datos***"
      ]
    },
    {
      "cell_type": "markdown",
      "metadata": {
        "id": "orwNUQTDBLHc"
      },
      "source": [
        "Primeramente procedemos a analizar el tipo de datos de los atributos "
      ]
    },
    {
      "cell_type": "code",
      "metadata": {
        "colab": {
          "base_uri": "https://localhost:8080/"
        },
        "id": "5N3QAvJLBU3i",
        "outputId": "f6addd2c-c8c0-4112-fe2f-3bfed3c15c9c"
      },
      "source": [
        "breast_cancer.dtypes"
      ],
      "execution_count": null,
      "outputs": [
        {
          "output_type": "execute_result",
          "data": {
            "text/plain": [
              "no-recurrence-events    object\n",
              "30-39                   object\n",
              "premeno                 object\n",
              "30-34                   object\n",
              "0-2                     object\n",
              "no                      object\n",
              "3                        int64\n",
              "left                    object\n",
              "left_low                object\n",
              "no.1                    object\n",
              "dtype: object"
            ]
          },
          "metadata": {
            "tags": []
          },
          "execution_count": 13
        }
      ]
    },
    {
      "cell_type": "markdown",
      "metadata": {
        "id": "qI-pOEP-Bmce"
      },
      "source": [
        "Notese que realmente el unico dato númerico(en este caso entero) que se tiene es el grado de malignidad del tumor, sin emnbargo en este punto no se sabe con certeza si los datos son categoricos, para ello se procedera a estudiar con comandos unique and describe, cada atributo "
      ]
    },
    {
      "cell_type": "code",
      "metadata": {
        "colab": {
          "base_uri": "https://localhost:8080/"
        },
        "id": "mXG0sr2IHxDY",
        "outputId": "5abb62c4-1734-4108-ad98-d8da89b39442"
      },
      "source": [
        "pd.unique(breast_cancer['Class'])"
      ],
      "execution_count": null,
      "outputs": [
        {
          "output_type": "execute_result",
          "data": {
            "text/plain": [
              "array(['no-recurrence-events', 'recurrence-events'], dtype=object)"
            ]
          },
          "metadata": {
            "tags": []
          },
          "execution_count": 8
        }
      ]
    },
    {
      "cell_type": "code",
      "metadata": {
        "colab": {
          "base_uri": "https://localhost:8080/"
        },
        "id": "G9kl_PTyHB2Z",
        "outputId": "93aecee2-4a06-429e-f581-382bd6527fde"
      },
      "source": [
        "breast_cancer['Class'].describe()"
      ],
      "execution_count": null,
      "outputs": [
        {
          "output_type": "execute_result",
          "data": {
            "text/plain": [
              "count                      286\n",
              "unique                       2\n",
              "top       no-recurrence-events\n",
              "freq                       201\n",
              "Name: Class, dtype: object"
            ]
          },
          "metadata": {
            "tags": []
          },
          "execution_count": 31
        }
      ]
    },
    {
      "cell_type": "code",
      "metadata": {
        "colab": {
          "base_uri": "https://localhost:8080/"
        },
        "id": "ddKLRcrwIw7p",
        "outputId": "4d158977-53e1-4de7-9201-5a53d2199e4c"
      },
      "source": [
        "pd.unique(breast_cancer['age'])"
      ],
      "execution_count": null,
      "outputs": [
        {
          "output_type": "execute_result",
          "data": {
            "text/plain": [
              "array(['30-39', '40-49', '60-69', '50-59', '70-79', '20-29'], dtype=object)"
            ]
          },
          "metadata": {
            "tags": []
          },
          "execution_count": 33
        }
      ]
    },
    {
      "cell_type": "markdown",
      "metadata": {
        "id": "3vv4wVbaJcKv"
      },
      "source": [
        "Notese que el rango de edades va desde 20 hasta 79, sin embargo los datos no pueden escribirse como un numero exacto, por ende son datos categoricos"
      ]
    },
    {
      "cell_type": "code",
      "metadata": {
        "colab": {
          "base_uri": "https://localhost:8080/"
        },
        "id": "dTgSHqKDIw70",
        "outputId": "09eed4e5-b04a-44ed-8824-0334f284ae9e"
      },
      "source": [
        "breast_cancer['age'].describe()"
      ],
      "execution_count": null,
      "outputs": [
        {
          "output_type": "execute_result",
          "data": {
            "text/plain": [
              "count       286\n",
              "unique        6\n",
              "top       50-59\n",
              "freq         96\n",
              "Name: age, dtype: object"
            ]
          },
          "metadata": {
            "tags": []
          },
          "execution_count": 34
        }
      ]
    },
    {
      "cell_type": "code",
      "metadata": {
        "colab": {
          "base_uri": "https://localhost:8080/"
        },
        "id": "_lPSG5kZJ1oZ",
        "outputId": "21f255cb-b2fb-4b4c-c1e0-6138466a2175"
      },
      "source": [
        "pd.unique(breast_cancer['menopause'])"
      ],
      "execution_count": null,
      "outputs": [
        {
          "output_type": "execute_result",
          "data": {
            "text/plain": [
              "array(['premeno', 'ge40', 'lt40'], dtype=object)"
            ]
          },
          "metadata": {
            "tags": []
          },
          "execution_count": 36
        }
      ]
    },
    {
      "cell_type": "code",
      "metadata": {
        "colab": {
          "base_uri": "https://localhost:8080/"
        },
        "id": "Ah4PGzPZJ1oa",
        "outputId": "b0c630b6-8270-4cd4-c1ef-dc6b162d90c6"
      },
      "source": [
        "breast_cancer['menopause'].describe()"
      ],
      "execution_count": null,
      "outputs": [
        {
          "output_type": "execute_result",
          "data": {
            "text/plain": [
              "count         286\n",
              "unique          3\n",
              "top       premeno\n",
              "freq          150\n",
              "Name: menopause, dtype: object"
            ]
          },
          "metadata": {
            "tags": []
          },
          "execution_count": 37
        }
      ]
    },
    {
      "cell_type": "markdown",
      "metadata": {
        "id": "n_Wpq69O62jz"
      },
      "source": [
        "El atributo menopause tambien corresponde a datos de tipo categorico "
      ]
    },
    {
      "cell_type": "code",
      "metadata": {
        "colab": {
          "base_uri": "https://localhost:8080/"
        },
        "id": "_CFlmmt-MHFg",
        "outputId": "8884a470-e2f8-4c4e-eb5f-ba904ce08409"
      },
      "source": [
        "pd.unique(breast_cancer['tumor size'])"
      ],
      "execution_count": null,
      "outputs": [
        {
          "output_type": "execute_result",
          "data": {
            "text/plain": [
              "array(['30-34', '20-24', '15-19', '0-4', '25-29', '50-54', '10-14',\n",
              "       '40-44', '35-39', '5-9', '45-49'], dtype=object)"
            ]
          },
          "metadata": {
            "tags": []
          },
          "execution_count": 38
        }
      ]
    },
    {
      "cell_type": "markdown",
      "metadata": {
        "id": "E7hOtaN1MYYY"
      },
      "source": [
        "Notese que el rango de tamaños de tumor va desde 5 hasta 54 sin embargo tambien es un atributo categorico"
      ]
    },
    {
      "cell_type": "code",
      "metadata": {
        "colab": {
          "base_uri": "https://localhost:8080/"
        },
        "id": "-VVnGsu8NEPo",
        "outputId": "8884a470-e2f8-4c4e-eb5f-ba904ce08409"
      },
      "source": [
        "pd.unique(breast_cancer['inv nodes'])"
      ],
      "execution_count": null,
      "outputs": [
        {
          "output_type": "execute_result",
          "data": {
            "text/plain": [
              "array(['30-34', '20-24', '15-19', '0-4', '25-29', '50-54', '10-14',\n",
              "       '40-44', '35-39', '5-9', '45-49'], dtype=object)"
            ]
          },
          "metadata": {
            "tags": []
          },
          "execution_count": 38
        }
      ]
    },
    {
      "cell_type": "code",
      "metadata": {
        "colab": {
          "base_uri": "https://localhost:8080/"
        },
        "id": "GNIkbMByMHFu",
        "outputId": "599593d7-f4a2-4b2f-dafe-0e291c82a718"
      },
      "source": [
        "breast_cancer['inv nodes'].describe()"
      ],
      "execution_count": null,
      "outputs": [
        {
          "output_type": "execute_result",
          "data": {
            "text/plain": [
              "count     286\n",
              "unique      7\n",
              "top       0-2\n",
              "freq      213\n",
              "Name: inv nodes, dtype: object"
            ]
          },
          "metadata": {
            "tags": []
          },
          "execution_count": 40
        }
      ]
    },
    {
      "cell_type": "markdown",
      "metadata": {
        "id": "DClanv20Ndce"
      },
      "source": [
        "Aca se presenta un atributo categorico binario"
      ]
    },
    {
      "cell_type": "code",
      "metadata": {
        "colab": {
          "base_uri": "https://localhost:8080/"
        },
        "id": "_jK39bayPAta",
        "outputId": "9df34d23-60dd-4cdf-c257-d5d3cb3288db"
      },
      "source": [
        "breast_cancer['node caps'].describe()"
      ],
      "execution_count": null,
      "outputs": [
        {
          "output_type": "execute_result",
          "data": {
            "text/plain": [
              "count     286\n",
              "unique      3\n",
              "top        no\n",
              "freq      222\n",
              "Name: node caps, dtype: object"
            ]
          },
          "metadata": {
            "tags": []
          },
          "execution_count": 42
        }
      ]
    },
    {
      "cell_type": "code",
      "metadata": {
        "colab": {
          "base_uri": "https://localhost:8080/"
        },
        "id": "mQwZc6PvPAtX",
        "outputId": "afadb1e5-b0b6-4233-9ee5-87e4072950a8"
      },
      "source": [
        "pd.unique(breast_cancer['node caps'])"
      ],
      "execution_count": null,
      "outputs": [
        {
          "output_type": "execute_result",
          "data": {
            "text/plain": [
              "array(['no', 'yes', '?'], dtype=object)"
            ]
          },
          "metadata": {
            "tags": []
          },
          "execution_count": 9
        }
      ]
    },
    {
      "cell_type": "markdown",
      "metadata": {
        "id": "nZPkUTO3PsoS"
      },
      "source": [
        "***Aca se encontraron valores de ? *** Este es un tipo  de categoria binaria, sin embargo presenta valores faltantes, estos datos se deben trabajar antes de ser utilizados, esto realizara en una sección posterior "
      ]
    },
    {
      "cell_type": "code",
      "metadata": {
        "colab": {
          "base_uri": "https://localhost:8080/"
        },
        "id": "7FFLjzWjNqnK",
        "outputId": "52f903c6-41b0-44ef-ee95-99167d0a67cb"
      },
      "source": [
        "breast_cancer['deg maling'].describe()"
      ],
      "execution_count": null,
      "outputs": [
        {
          "output_type": "execute_result",
          "data": {
            "text/plain": [
              "count    286.000000\n",
              "mean       2.048951\n",
              "std        0.738217\n",
              "min        1.000000\n",
              "25%        2.000000\n",
              "50%        2.000000\n",
              "75%        3.000000\n",
              "max        3.000000\n",
              "Name: deg maling, dtype: float64"
            ]
          },
          "metadata": {
            "tags": []
          },
          "execution_count": 11
        }
      ]
    },
    {
      "cell_type": "code",
      "metadata": {
        "colab": {
          "base_uri": "https://localhost:8080/"
        },
        "id": "1Q3wG-hdNqnU",
        "outputId": "42598708-5597-4157-fccc-363aad5745c1"
      },
      "source": [
        "pd.unique(breast_cancer['deg maling'])"
      ],
      "execution_count": null,
      "outputs": [
        {
          "output_type": "execute_result",
          "data": {
            "text/plain": [
              "array([3, 2, 1])"
            ]
          },
          "metadata": {
            "tags": []
          },
          "execution_count": 12
        }
      ]
    },
    {
      "cell_type": "markdown",
      "metadata": {
        "id": "vUqNLKSyVeYk"
      },
      "source": [
        "  El grado de malignidad realmente es un atributo categorico y no variable por tanto los datos estadisticos obtenidos con el comando describe realmente no aportan información valiosa"
      ]
    },
    {
      "cell_type": "code",
      "metadata": {
        "colab": {
          "base_uri": "https://localhost:8080/"
        },
        "id": "dEeQ80uMZL79",
        "outputId": "e4eaef4d-7b49-4bb7-e938-98c05ab2c353"
      },
      "source": [
        "breast_cancer['breast'].describe()"
      ],
      "execution_count": null,
      "outputs": [
        {
          "output_type": "execute_result",
          "data": {
            "text/plain": [
              "count      286\n",
              "unique       2\n",
              "top       left\n",
              "freq       152\n",
              "Name: breast, dtype: object"
            ]
          },
          "metadata": {
            "tags": []
          },
          "execution_count": 13
        }
      ]
    },
    {
      "cell_type": "code",
      "metadata": {
        "colab": {
          "base_uri": "https://localhost:8080/"
        },
        "id": "k8F3kY0bZL8G",
        "outputId": "192f9d10-0ace-45d8-8884-24a713ab4df0"
      },
      "source": [
        "pd.unique(breast_cancer['breast'])"
      ],
      "execution_count": null,
      "outputs": [
        {
          "output_type": "execute_result",
          "data": {
            "text/plain": [
              "array(['left', 'right'], dtype=object)"
            ]
          },
          "metadata": {
            "tags": []
          },
          "execution_count": 18
        }
      ]
    },
    {
      "cell_type": "markdown",
      "metadata": {
        "id": "YN8YUF7DZL8H"
      },
      "source": [
        "Este es un tipo  de categoria binaria"
      ]
    },
    {
      "cell_type": "code",
      "metadata": {
        "colab": {
          "base_uri": "https://localhost:8080/"
        },
        "id": "ztP2fH54akwy",
        "outputId": "4f382201-c4cd-4ee9-e718-db5c341a6d0b"
      },
      "source": [
        "breast_cancer['breast quad'].describe()"
      ],
      "execution_count": null,
      "outputs": [
        {
          "output_type": "execute_result",
          "data": {
            "text/plain": [
              "count          286\n",
              "unique           6\n",
              "top       left_low\n",
              "freq           110\n",
              "Name: breast quad, dtype: object"
            ]
          },
          "metadata": {
            "tags": []
          },
          "execution_count": 19
        }
      ]
    },
    {
      "cell_type": "code",
      "metadata": {
        "colab": {
          "base_uri": "https://localhost:8080/"
        },
        "id": "xCvSSVntakw9",
        "outputId": "72ba1be0-9899-41fa-b71b-1d3b8614da6b"
      },
      "source": [
        "pd.unique(breast_cancer['breast quad'])"
      ],
      "execution_count": null,
      "outputs": [
        {
          "output_type": "execute_result",
          "data": {
            "text/plain": [
              "array(['left_low', 'right_up', 'left_up', 'right_low', 'central', '?'],\n",
              "      dtype=object)"
            ]
          },
          "metadata": {
            "tags": []
          },
          "execution_count": 20
        }
      ]
    },
    {
      "cell_type": "markdown",
      "metadata": {
        "id": "Mbq3qpdqbMMB"
      },
      "source": [
        "Este tambien es un atributo categorico "
      ]
    },
    {
      "cell_type": "code",
      "metadata": {
        "colab": {
          "base_uri": "https://localhost:8080/"
        },
        "id": "k5XBDPm7bYm1",
        "outputId": "e4eaef4d-7b49-4bb7-e938-98c05ab2c353"
      },
      "source": [
        "breast_cancer['irradiat'].describe()"
      ],
      "execution_count": null,
      "outputs": [
        {
          "output_type": "execute_result",
          "data": {
            "text/plain": [
              "count      286\n",
              "unique       2\n",
              "top       left\n",
              "freq       152\n",
              "Name: breast, dtype: object"
            ]
          },
          "metadata": {
            "tags": []
          },
          "execution_count": 13
        }
      ]
    },
    {
      "cell_type": "code",
      "metadata": {
        "colab": {
          "base_uri": "https://localhost:8080/"
        },
        "id": "Upi5kn_xbYm2",
        "outputId": "192f9d10-0ace-45d8-8884-24a713ab4df0"
      },
      "source": [
        "pd.unique(breast_cancer['irradiat'])"
      ],
      "execution_count": null,
      "outputs": [
        {
          "output_type": "execute_result",
          "data": {
            "text/plain": [
              "array(['left', 'right'], dtype=object)"
            ]
          },
          "metadata": {
            "tags": []
          },
          "execution_count": 18
        }
      ]
    },
    {
      "cell_type": "markdown",
      "metadata": {
        "id": "WodYuPs-bYm2"
      },
      "source": [
        "Finalmente este es un tipo  de categoria binaria"
      ]
    },
    {
      "cell_type": "markdown",
      "metadata": {
        "id": "72AXqNGGX2_m"
      },
      "source": [
        "### Gráficas de atributos"
      ]
    },
    {
      "cell_type": "markdown",
      "metadata": {
        "id": "FH3Vkscwb7FL"
      },
      "source": [
        "Se procede a graficar la Clase, es decir cuales pacientes presentan eventos recurrentes o no en funcion de los atributos para con ello ver su correlación"
      ]
    },
    {
      "cell_type": "code",
      "metadata": {
        "id": "Rpmr1iQSWSLO",
        "colab": {
          "base_uri": "https://localhost:8080/",
          "height": 279
        },
        "outputId": "6e03c5b1-abc2-4338-f768-385238496aad"
      },
      "source": [
        "\n",
        "plt.figure()\n",
        "sns.countplot(x='age', hue='Class', data=breast_cancer, palette='RdBu')\n",
        "plt.show()"
      ],
      "execution_count": null,
      "outputs": [
        {
          "output_type": "display_data",
          "data": {
            "image/png": "[encoded data removed]",
            "text/plain": [
              "<Figure size 432x288 with 1 Axes>"
            ]
          },
          "metadata": {
            "tags": [],
            "needs_background": "light"
          }
        }
      ]
    },
    {
      "cell_type": "code",
      "metadata": {
        "colab": {
          "base_uri": "https://localhost:8080/",
          "height": 279
        },
        "id": "Z3Edb1-evsIW",
        "outputId": "c1f0cd49-f835-42b9-cd0e-df34ffef77e0"
      },
      "source": [
        "\n",
        "plt.figure()\n",
        "sns.countplot(x='menopause', hue='Class', data=breast_cancer, palette='RdBu')\n",
        "plt.show()"
      ],
      "execution_count": null,
      "outputs": [
        {
          "output_type": "display_data",
          "data": {
            "image/png": "[encoded data removed]",
            "text/plain": [
              "<Figure size 432x288 with 1 Axes>"
            ]
          },
          "metadata": {
            "tags": [],
            "needs_background": "light"
          }
        }
      ]
    },
    {
      "cell_type": "code",
      "metadata": {
        "colab": {
          "base_uri": "https://localhost:8080/",
          "height": 279
        },
        "id": "EyUg5jF3wLLc",
        "outputId": "47e64562-22ab-4a36-c5f1-05689a61a06e"
      },
      "source": [
        "\n",
        "plt.figure()\n",
        "sns.countplot(x='tumor size', hue='Class', data=breast_cancer, palette='RdBu')\n",
        "plt.show()"
      ],
      "execution_count": null,
      "outputs": [
        {
          "output_type": "display_data",
          "data": {
            "image/png": "[encoded data removed]",
            "text/plain": [
              "<Figure size 432x288 with 1 Axes>"
            ]
          },
          "metadata": {
            "tags": [],
            "needs_background": "light"
          }
        }
      ]
    },
    {
      "cell_type": "code",
      "metadata": {
        "colab": {
          "base_uri": "https://localhost:8080/",
          "height": 279
        },
        "id": "NLWh_rZQw2uU",
        "outputId": "ed9851e8-58f4-4282-a715-9371acb940f5"
      },
      "source": [
        "\n",
        "plt.figure()\n",
        "sns.countplot(x='inv nodes', hue='Class', data=breast_cancer, palette='RdBu')\n",
        "plt.show()"
      ],
      "execution_count": null,
      "outputs": [
        {
          "output_type": "display_data",
          "data": {
            "image/png": "[encoded data removed]",
            "text/plain": [
              "<Figure size 432x288 with 1 Axes>"
            ]
          },
          "metadata": {
            "tags": [],
            "needs_background": "light"
          }
        }
      ]
    },
    {
      "cell_type": "markdown",
      "metadata": {
        "id": "GVeNf5W2yxve"
      },
      "source": [
        "El atributo de edad muestra una alta no recurrencia para los rangos entre 30 y 69 años, mientras que el de inv nodes muestra que es muy probable que entre 0 y 2 no exista recurrencia, se trabaja con esas graficas dado que las de menopausia y tamaño del tumor tienen una distribuvion mas equitativa para ambos tipos de clase.\n",
        "\n"
      ]
    },
    {
      "cell_type": "markdown",
      "metadata": {
        "id": "snX6FhDq_vFy"
      },
      "source": [
        "## *Técnica de sustitución de valores faltantes *"
      ]
    },
    {
      "cell_type": "markdown",
      "metadata": {
        "id": "3VANQ_cwAbq8"
      },
      "source": [
        "Como se menciona previamente en la columna de node caps se encuentran valores faltantes, se sustituyen los \"?\" por  Nan y posteriormente se deciden eliminar"
      ]
    },
    {
      "cell_type": "code",
      "metadata": {
        "id": "ht1VUi2iBOYb"
      },
      "source": [
        "breast_cancer.replace(to_replace='?', value = np.nan, inplace = True)"
      ],
      "execution_count": 9,
      "outputs": []
    },
    {
      "cell_type": "code",
      "metadata": {
        "colab": {
          "base_uri": "https://localhost:8080/"
        },
        "id": "pM0Gs_uDBm05",
        "outputId": "1948f6d8-a111-43e5-c20a-e257abd15e43"
      },
      "source": [
        "pd.unique(breast_cancer['node caps'])"
      ],
      "execution_count": 10,
      "outputs": [
        {
          "output_type": "execute_result",
          "data": {
            "text/plain": [
              "array(['no', 'yes', nan], dtype=object)"
            ]
          },
          "metadata": {
            "tags": []
          },
          "execution_count": 10
        }
      ]
    },
    {
      "cell_type": "markdown",
      "metadata": {
        "id": "vdbZ1WOoCFiB"
      },
      "source": [
        "Notese que ahora efectivamente aparecen nan y no signos de ?"
      ]
    },
    {
      "cell_type": "code",
      "metadata": {
        "id": "DNuI4CQPEdM7"
      },
      "source": [
        "breast_cancer= breast_cancer.dropna()"
      ],
      "execution_count": 11,
      "outputs": []
    },
    {
      "cell_type": "code",
      "metadata": {
        "colab": {
          "base_uri": "https://localhost:8080/"
        },
        "id": "EVvQkuwmEpzA",
        "outputId": "a77e4ce0-94c7-4b54-bad4-aa489694e9f8"
      },
      "source": [
        "pd.unique(breast_cancer['node caps'])"
      ],
      "execution_count": 12,
      "outputs": [
        {
          "output_type": "execute_result",
          "data": {
            "text/plain": [
              "array(['no', 'yes'], dtype=object)"
            ]
          },
          "metadata": {
            "tags": []
          },
          "execution_count": 12
        }
      ]
    },
    {
      "cell_type": "markdown",
      "metadata": {
        "id": "VELtPuBIFNon"
      },
      "source": [
        "Aca se han eliminado los datos que presentaban nan"
      ]
    },
    {
      "cell_type": "markdown",
      "metadata": {
        "id": "kZJfdqYKF7vQ"
      },
      "source": [
        "# Tecnica de deteccion y eliminación de outliers "
      ]
    },
    {
      "cell_type": "markdown",
      "metadata": {
        "id": "EN3tH-THGHgC"
      },
      "source": [
        "Para la siguiente sección se añade una columna de testing con numeros aleatorios entre 0 y 100"
      ]
    }
  ]
}