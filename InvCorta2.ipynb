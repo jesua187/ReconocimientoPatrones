{
  "nbformat": 4,
  "nbformat_minor": 0,
  "metadata": {
    "colab": {
      "name": "InvCorta2.ipynb",
      "provenance": [],
      "authorship_tag": "ABX9TyOC1zzukC0z7fnSbCnEZUOk",
      "include_colab_link": true
    },
    "kernelspec": {
      "name": "python3",
      "display_name": "Python 3"
    },
    "language_info": {
      "name": "python"
    }
  },
  "cells": [
    {
      "cell_type": "markdown",
      "metadata": {
        "id": "view-in-github",
        "colab_type": "text"
      },
      "source": [
        "<a href=\"https://colab.research.google.com/github/jesua187/ReconocimientoPatrones/blob/main/InvCorta2.ipynb\" target=\"_parent\"><img src=\"https://colab.research.google.com/assets/colab-badge.svg\" alt=\"Open In Colab\"/></a>"
      ]
    },
    {
      "cell_type": "markdown",
      "metadata": {
        "id": "N3u5b3XC8LGo"
      },
      "source": [
        "El objetivo consiste en crear una notebook,\n",
        "donde a partir de un dataset de su elección, pueda llevar a cabo diferentes técnicas de pre-procesado, así\n",
        "como análisis exploratorio de los datos. Debe tener como mínimo las siguientes técnicas (no se limita a\n",
        "estos):\n",
        "- Aplicación de normalización o estandarización de datos.\n",
        "- Técnica de sustitución de valores faltantes.\n",
        "- Técnica de detección/eliminación de outliers.\n",
        "- Análisis exploratorio de datos. "
      ]
    },
    {
      "cell_type": "markdown",
      "metadata": {
        "id": "pRZGqKXaoLMX"
      },
      "source": [
        "se hace uso del dataset \"\n",
        "Breast Cancer Data Set\", el cual se puede obtener y detallar en este sitio: http://archive.ics.uci.edu/ml/datasets/Breast+Cancer"
      ]
    },
    {
      "cell_type": "markdown",
      "metadata": {
        "id": "qb3xlL16M_6R"
      },
      "source": [
        "Primeramente procedemos a cargar las librerias necesarias:"
      ]
    },
    {
      "cell_type": "code",
      "metadata": {
        "id": "Vzt0hQZ2NSB7"
      },
      "source": [
        "import numpy as np\n",
        "import pandas as pd\n",
        "from matplotlib import pyplot as plt\n",
        "import seaborn as sns\n",
        "%matplotlib inline"
      ],
      "execution_count": 13,
      "outputs": []
    },
    {
      "cell_type": "markdown",
      "metadata": {
        "id": "eeTO0eZCOKJf"
      },
      "source": [
        "Se procede a cargar el archivo:"
      ]
    },
    {
      "cell_type": "code",
      "metadata": {
        "id": "5aNRG856tY64"
      },
      "source": [
        "breast_cancer = pd.read_csv(\"breast-cancer.data\")"
      ],
      "execution_count": 14,
      "outputs": []
    },
    {
      "cell_type": "markdown",
      "metadata": {
        "id": "EEVdZjXat37F"
      },
      "source": [
        "Visualizamos las primeras lineas:"
      ]
    },
    {
      "cell_type": "code",
      "metadata": {
        "colab": {
          "base_uri": "https://localhost:8080/"
        },
        "id": "z9rDq4H0uGzE",
        "outputId": "2f8b950c-8478-406b-88cb-d68dc48ebca8"
      },
      "source": [
        "breast_cancer.head"
      ],
      "execution_count": 15,
      "outputs": [
        {
          "output_type": "execute_result",
          "data": {
            "text/plain": [
              "<bound method NDFrame.head of      no-recurrence-events  30-39  premeno  30-34  ...  3   left   left_low no.1\n",
              "0    no-recurrence-events  40-49  premeno  20-24  ...  2  right   right_up   no\n",
              "1    no-recurrence-events  40-49  premeno  20-24  ...  2   left   left_low   no\n",
              "2    no-recurrence-events  60-69     ge40  15-19  ...  2  right    left_up   no\n",
              "3    no-recurrence-events  40-49  premeno    0-4  ...  2  right  right_low   no\n",
              "4    no-recurrence-events  60-69     ge40  15-19  ...  2   left   left_low   no\n",
              "..                    ...    ...      ...    ...  ... ..    ...        ...  ...\n",
              "280     recurrence-events  30-39  premeno  30-34  ...  2   left    left_up   no\n",
              "281     recurrence-events  30-39  premeno  20-24  ...  3   left    left_up  yes\n",
              "282     recurrence-events  60-69     ge40  20-24  ...  1  right    left_up   no\n",
              "283     recurrence-events  40-49     ge40  30-34  ...  3   left   left_low   no\n",
              "284     recurrence-events  50-59     ge40  30-34  ...  3   left   left_low   no\n",
              "\n",
              "[285 rows x 10 columns]>"
            ]
          },
          "metadata": {
            "tags": []
          },
          "execution_count": 15
        }
      ]
    },
    {
      "cell_type": "markdown",
      "metadata": {
        "id": "nusAmOf43XWs"
      },
      "source": [
        "Agregando encabezados de las columnas"
      ]
    },
    {
      "cell_type": "code",
      "metadata": {
        "id": "q-0ZSh2y8GMZ",
        "colab": {
          "base_uri": "https://localhost:8080/"
        },
        "outputId": "285f5c75-9ab6-4c03-9b8f-b1542a75cade"
      },
      "source": [
        "breast_cancer.columns"
      ],
      "execution_count": 24,
      "outputs": [
        {
          "output_type": "execute_result",
          "data": {
            "text/plain": [
              "Index(['Class', 'age', 'menopause', 'tumor size', 'inv nodes', 'node caps',\n",
              "       'deg maling', 'breast', 'breast quad', 'irradiat'],\n",
              "      dtype='object')"
            ]
          },
          "metadata": {
            "tags": []
          },
          "execution_count": 24
        }
      ]
    },
    {
      "cell_type": "code",
      "metadata": {
        "id": "CpWMwfU895hH"
      },
      "source": [
        ""
      ],
      "execution_count": null,
      "outputs": []
    },
    {
      "cell_type": "code",
      "metadata": {
        "id": "YLlQcM3j4C1i"
      },
      "source": [
        "breast_cancer = pd.read_csv(\"breast-cancer.data\", names = breast_cancer.columns)"
      ],
      "execution_count": 25,
      "outputs": []
    },
    {
      "cell_type": "markdown",
      "metadata": {
        "id": "yhIXH7k04HPP"
      },
      "source": [
        "Visualización con encabezados"
      ]
    },
    {
      "cell_type": "code",
      "metadata": {
        "id": "r1llzJ9V4V3t",
        "outputId": "4938375c-35b7-4a1a-aaab-5e88519ce2c1",
        "colab": {
          "base_uri": "https://localhost:8080/",
          "height": 204
        }
      },
      "source": [
        "breast_cancer.head()"
      ],
      "execution_count": 26,
      "outputs": [
        {
          "output_type": "execute_result",
          "data": {
            "text/html": [
              "<div>\n",
              "<style scoped>\n",
              "    .dataframe tbody tr th:only-of-type {\n",
              "        vertical-align: middle;\n",
              "    }\n",
              "\n",
              "    .dataframe tbody tr th {\n",
              "        vertical-align: top;\n",
              "    }\n",
              "\n",
              "    .dataframe thead th {\n",
              "        text-align: right;\n",
              "    }\n",
              "</style>\n",
              "<table border=\"1\" class=\"dataframe\">\n",
              "  <thead>\n",
              "    <tr style=\"text-align: right;\">\n",
              "      <th></th>\n",
              "      <th>Class</th>\n",
              "      <th>age</th>\n",
              "      <th>menopause</th>\n",
              "      <th>tumor size</th>\n",
              "      <th>inv nodes</th>\n",
              "      <th>node caps</th>\n",
              "      <th>deg maling</th>\n",
              "      <th>breast</th>\n",
              "      <th>breast quad</th>\n",
              "      <th>irradiat</th>\n",
              "    </tr>\n",
              "  </thead>\n",
              "  <tbody>\n",
              "    <tr>\n",
              "      <th>0</th>\n",
              "      <td>no-recurrence-events</td>\n",
              "      <td>30-39</td>\n",
              "      <td>premeno</td>\n",
              "      <td>30-34</td>\n",
              "      <td>0-2</td>\n",
              "      <td>no</td>\n",
              "      <td>3</td>\n",
              "      <td>left</td>\n",
              "      <td>left_low</td>\n",
              "      <td>no</td>\n",
              "    </tr>\n",
              "    <tr>\n",
              "      <th>1</th>\n",
              "      <td>no-recurrence-events</td>\n",
              "      <td>40-49</td>\n",
              "      <td>premeno</td>\n",
              "      <td>20-24</td>\n",
              "      <td>0-2</td>\n",
              "      <td>no</td>\n",
              "      <td>2</td>\n",
              "      <td>right</td>\n",
              "      <td>right_up</td>\n",
              "      <td>no</td>\n",
              "    </tr>\n",
              "    <tr>\n",
              "      <th>2</th>\n",
              "      <td>no-recurrence-events</td>\n",
              "      <td>40-49</td>\n",
              "      <td>premeno</td>\n",
              "      <td>20-24</td>\n",
              "      <td>0-2</td>\n",
              "      <td>no</td>\n",
              "      <td>2</td>\n",
              "      <td>left</td>\n",
              "      <td>left_low</td>\n",
              "      <td>no</td>\n",
              "    </tr>\n",
              "    <tr>\n",
              "      <th>3</th>\n",
              "      <td>no-recurrence-events</td>\n",
              "      <td>60-69</td>\n",
              "      <td>ge40</td>\n",
              "      <td>15-19</td>\n",
              "      <td>0-2</td>\n",
              "      <td>no</td>\n",
              "      <td>2</td>\n",
              "      <td>right</td>\n",
              "      <td>left_up</td>\n",
              "      <td>no</td>\n",
              "    </tr>\n",
              "    <tr>\n",
              "      <th>4</th>\n",
              "      <td>no-recurrence-events</td>\n",
              "      <td>40-49</td>\n",
              "      <td>premeno</td>\n",
              "      <td>0-4</td>\n",
              "      <td>0-2</td>\n",
              "      <td>no</td>\n",
              "      <td>2</td>\n",
              "      <td>right</td>\n",
              "      <td>right_low</td>\n",
              "      <td>no</td>\n",
              "    </tr>\n",
              "  </tbody>\n",
              "</table>\n",
              "</div>"
            ],
            "text/plain": [
              "                  Class    age menopause  ... breast breast quad irradiat\n",
              "0  no-recurrence-events  30-39   premeno  ...   left    left_low       no\n",
              "1  no-recurrence-events  40-49   premeno  ...  right    right_up       no\n",
              "2  no-recurrence-events  40-49   premeno  ...   left    left_low       no\n",
              "3  no-recurrence-events  60-69      ge40  ...  right     left_up       no\n",
              "4  no-recurrence-events  40-49   premeno  ...  right   right_low       no\n",
              "\n",
              "[5 rows x 10 columns]"
            ]
          },
          "metadata": {
            "tags": []
          },
          "execution_count": 26
        }
      ]
    },
    {
      "cell_type": "code",
      "metadata": {
        "id": "vtgf1Ku57N45",
        "outputId": "cc179a63-5fdb-4f78-c76f-80661d4a8b31",
        "colab": {
          "base_uri": "https://localhost:8080/",
          "height": 204
        }
      },
      "source": [
        "breast_cancer.tail()"
      ],
      "execution_count": 22,
      "outputs": [
        {
          "output_type": "execute_result",
          "data": {
            "text/html": [
              "<div>\n",
              "<style scoped>\n",
              "    .dataframe tbody tr th:only-of-type {\n",
              "        vertical-align: middle;\n",
              "    }\n",
              "\n",
              "    .dataframe tbody tr th {\n",
              "        vertical-align: top;\n",
              "    }\n",
              "\n",
              "    .dataframe thead th {\n",
              "        text-align: right;\n",
              "    }\n",
              "</style>\n",
              "<table border=\"1\" class=\"dataframe\">\n",
              "  <thead>\n",
              "    <tr style=\"text-align: right;\">\n",
              "      <th></th>\n",
              "      <th>Class</th>\n",
              "      <th>age</th>\n",
              "      <th>menopause</th>\n",
              "      <th>tumor size</th>\n",
              "      <th>inv nodes</th>\n",
              "      <th>node caps</th>\n",
              "      <th>deg maling</th>\n",
              "      <th>breast</th>\n",
              "      <th>breast quad</th>\n",
              "      <th>irradiat</th>\n",
              "    </tr>\n",
              "  </thead>\n",
              "  <tbody>\n",
              "    <tr>\n",
              "      <th>281</th>\n",
              "      <td>recurrence-events</td>\n",
              "      <td>30-39</td>\n",
              "      <td>premeno</td>\n",
              "      <td>30-34</td>\n",
              "      <td>0-2</td>\n",
              "      <td>no</td>\n",
              "      <td>2</td>\n",
              "      <td>left</td>\n",
              "      <td>left_up</td>\n",
              "      <td>no</td>\n",
              "    </tr>\n",
              "    <tr>\n",
              "      <th>282</th>\n",
              "      <td>recurrence-events</td>\n",
              "      <td>30-39</td>\n",
              "      <td>premeno</td>\n",
              "      <td>20-24</td>\n",
              "      <td>0-2</td>\n",
              "      <td>no</td>\n",
              "      <td>3</td>\n",
              "      <td>left</td>\n",
              "      <td>left_up</td>\n",
              "      <td>yes</td>\n",
              "    </tr>\n",
              "    <tr>\n",
              "      <th>283</th>\n",
              "      <td>recurrence-events</td>\n",
              "      <td>60-69</td>\n",
              "      <td>ge40</td>\n",
              "      <td>20-24</td>\n",
              "      <td>0-2</td>\n",
              "      <td>no</td>\n",
              "      <td>1</td>\n",
              "      <td>right</td>\n",
              "      <td>left_up</td>\n",
              "      <td>no</td>\n",
              "    </tr>\n",
              "    <tr>\n",
              "      <th>284</th>\n",
              "      <td>recurrence-events</td>\n",
              "      <td>40-49</td>\n",
              "      <td>ge40</td>\n",
              "      <td>30-34</td>\n",
              "      <td>3-5</td>\n",
              "      <td>no</td>\n",
              "      <td>3</td>\n",
              "      <td>left</td>\n",
              "      <td>left_low</td>\n",
              "      <td>no</td>\n",
              "    </tr>\n",
              "    <tr>\n",
              "      <th>285</th>\n",
              "      <td>recurrence-events</td>\n",
              "      <td>50-59</td>\n",
              "      <td>ge40</td>\n",
              "      <td>30-34</td>\n",
              "      <td>3-5</td>\n",
              "      <td>no</td>\n",
              "      <td>3</td>\n",
              "      <td>left</td>\n",
              "      <td>left_low</td>\n",
              "      <td>no</td>\n",
              "    </tr>\n",
              "  </tbody>\n",
              "</table>\n",
              "</div>"
            ],
            "text/plain": [
              "                 Class    age menopause  ... breast breast quad irradiat\n",
              "281  recurrence-events  30-39   premeno  ...   left     left_up       no\n",
              "282  recurrence-events  30-39   premeno  ...   left     left_up      yes\n",
              "283  recurrence-events  60-69      ge40  ...  right     left_up       no\n",
              "284  recurrence-events  40-49      ge40  ...   left    left_low       no\n",
              "285  recurrence-events  50-59      ge40  ...   left    left_low       no\n",
              "\n",
              "[5 rows x 10 columns]"
            ]
          },
          "metadata": {
            "tags": []
          },
          "execution_count": 22
        }
      ]
    },
    {
      "cell_type": "markdown",
      "metadata": {
        "id": "orwNUQTDBLHc"
      },
      "source": [
        "Primeramente procedemos a analizar el tipo de datos de los atributos "
      ]
    },
    {
      "cell_type": "code",
      "metadata": {
        "id": "5N3QAvJLBU3i",
        "outputId": "4fedcf8e-c18d-49f4-c434-147f01e99086",
        "colab": {
          "base_uri": "https://localhost:8080/"
        }
      },
      "source": [
        "breast_cancer.dtypes"
      ],
      "execution_count": 28,
      "outputs": [
        {
          "output_type": "execute_result",
          "data": {
            "text/plain": [
              "Class          object\n",
              "age            object\n",
              "menopause      object\n",
              "tumor size     object\n",
              "inv nodes      object\n",
              "node caps      object\n",
              "deg maling      int64\n",
              "breast         object\n",
              "breast quad    object\n",
              "irradiat       object\n",
              "dtype: object"
            ]
          },
          "metadata": {
            "tags": []
          },
          "execution_count": 28
        }
      ]
    },
    {
      "cell_type": "markdown",
      "metadata": {
        "id": "qI-pOEP-Bmce"
      },
      "source": [
        "Notese que realmente el unico dato númerico que se tiene es el grado de malignidad del tumor"
      ]
    },
    {
      "cell_type": "markdown",
      "metadata": {
        "id": "s-yMONCD8EXn"
      },
      "source": [
        "Notese que ni en el Tail ni en el Head se encontraron \"?\" de valores de atributos faltantes, se procede a hacer una busqueda más profunda"
      ]
    }
  ]
}