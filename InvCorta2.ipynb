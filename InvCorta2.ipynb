{
  "nbformat": 4,
  "nbformat_minor": 0,
  "metadata": {
    "colab": {
      "name": "InvCorta2.ipynb",
      "provenance": [],
      "authorship_tag": "ABX9TyPVr71cU/sQ2K8EZoSQvePb",
      "include_colab_link": true
    },
    "kernelspec": {
      "name": "python3",
      "display_name": "Python 3"
    },
    "language_info": {
      "name": "python"
    }
  },
  "cells": [
    {
      "cell_type": "markdown",
      "metadata": {
        "id": "view-in-github",
        "colab_type": "text"
      },
      "source": [
        "<a href=\"https://colab.research.google.com/github/jesua187/ReconocimientoPatrones/blob/main/InvCorta2.ipynb\" target=\"_parent\"><img src=\"https://colab.research.google.com/assets/colab-badge.svg\" alt=\"Open In Colab\"/></a>"
      ]
    },
    {
      "cell_type": "markdown",
      "metadata": {
        "id": "N3u5b3XC8LGo"
      },
      "source": [
        "El objetivo consiste en crear una notebook,\n",
        "donde a partir de un dataset de su elección, pueda llevar a cabo diferentes técnicas de pre-procesado, así\n",
        "como análisis exploratorio de los datos. Debe tener como mínimo las siguientes técnicas (no se limita a\n",
        "estos):\n",
        "- Aplicación de normalización o estandarización de datos.\n",
        "- Técnica de sustitución de valores faltantes.\n",
        "- Técnica de detección/eliminación de outliers.\n",
        "- Análisis exploratorio de datos. "
      ]
    },
    {
      "cell_type": "markdown",
      "metadata": {
        "id": "pRZGqKXaoLMX"
      },
      "source": [
        "se hace uso del dataset \"\n",
        "Breast Cancer Data Set\", el cual se puede obtener y detallar en este sitio: http://archive.ics.uci.edu/ml/datasets/Breast+Cancer"
      ]
    },
    {
      "cell_type": "markdown",
      "metadata": {
        "id": "qb3xlL16M_6R"
      },
      "source": [
        "Primeramente procedemos a cargar las librerias necesarias:"
      ]
    },
    {
      "cell_type": "code",
      "metadata": {
        "id": "Vzt0hQZ2NSB7"
      },
      "source": [
        "import numpy as np\n",
        "import pandas as pd\n",
        "from matplotlib import pyplot as plt\n",
        "import seaborn as sns\n",
        "%matplotlib inline"
      ],
      "execution_count": 2,
      "outputs": []
    },
    {
      "cell_type": "markdown",
      "metadata": {
        "id": "eeTO0eZCOKJf"
      },
      "source": [
        "Se procede a cargar el archivo:"
      ]
    },
    {
      "cell_type": "code",
      "metadata": {
        "id": "5aNRG856tY64"
      },
      "source": [
        "breast_cancer = pd.read_csv(\"breast-cancer.data\")"
      ],
      "execution_count": 4,
      "outputs": []
    },
    {
      "cell_type": "markdown",
      "metadata": {
        "id": "EEVdZjXat37F"
      },
      "source": [
        "Visualizamos las primeras lineas:"
      ]
    },
    {
      "cell_type": "code",
      "metadata": {
        "colab": {
          "base_uri": "https://localhost:8080/"
        },
        "id": "z9rDq4H0uGzE",
        "outputId": "9a7f4aa4-1789-4c90-8ff7-1474dc2462df"
      },
      "source": [
        "breast_cancer.head"
      ],
      "execution_count": 6,
      "outputs": [
        {
          "output_type": "execute_result",
          "data": {
            "text/plain": [
              "<bound method NDFrame.head of      no-recurrence-events  30-39  premeno  30-34  ...  3   left   left_low no.1\n",
              "0    no-recurrence-events  40-49  premeno  20-24  ...  2  right   right_up   no\n",
              "1    no-recurrence-events  40-49  premeno  20-24  ...  2   left   left_low   no\n",
              "2    no-recurrence-events  60-69     ge40  15-19  ...  2  right    left_up   no\n",
              "3    no-recurrence-events  40-49  premeno    0-4  ...  2  right  right_low   no\n",
              "4    no-recurrence-events  60-69     ge40  15-19  ...  2   left   left_low   no\n",
              "..                    ...    ...      ...    ...  ... ..    ...        ...  ...\n",
              "280     recurrence-events  30-39  premeno  30-34  ...  2   left    left_up   no\n",
              "281     recurrence-events  30-39  premeno  20-24  ...  3   left    left_up  yes\n",
              "282     recurrence-events  60-69     ge40  20-24  ...  1  right    left_up   no\n",
              "283     recurrence-events  40-49     ge40  30-34  ...  3   left   left_low   no\n",
              "284     recurrence-events  50-59     ge40  30-34  ...  3   left   left_low   no\n",
              "\n",
              "[285 rows x 10 columns]>"
            ]
          },
          "metadata": {
            "tags": []
          },
          "execution_count": 6
        }
      ]
    }
  ]
}