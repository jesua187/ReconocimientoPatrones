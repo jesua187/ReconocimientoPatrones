{
 "cells": [
  {
   "cell_type": "markdown",
   "metadata": {
    "id": "swWUin1y3q5z"
   },
   "source": [
    "# ***Investigación Corta III***"
   ]
  },
  {
   "cell_type": "markdown",
   "metadata": {
    "id": "N3u5b3XC8LGo"
   },
   "source": [
    "El objetivo consiste en elegir un conjunto de datos de baja-mediana complejidad y aplicarle algunos algoritmos supervisados de su elección, de la siguiente forma:\n",
    "\n",
    "    -Una vez definida la ruta de acción a partir de sus datos y el tipo de problema a atacar (predicción\n",
    "     o clasificación), debe aplicar 3 métodos de los vistos en clase, haciendo el análisis completo de los\n",
    "     resultados que obtenga y modificando los hiper-parámetros de acuerdo a su problema particular. De\n",
    "     ser necesario un pre-procesado, debe llevarlo a cabo.\n",
    "\n",
    "    -Ejecutar el mismo análisis anterior pero esta vez para un método de ensamble que no se haya visto en\n",
    "     clase.\n",
    "\n",
    "    -Explique en que consisten los métodos de ensamble y cuáles son sus principales caracteríticas.\n",
    "    \n",
    "    -No olvide el análisis cientíco que se espera de esta tarea, justifique en todo momento los resultados\n",
    "     y haga un buen uso de la Notebook."
   ]
  },
  {
   "cell_type": "markdown",
   "metadata": {
    "id": "pRZGqKXaoLMX"
   },
   "source": [
    "se hace uso del dataset \"\n",
    "Breast Cancer Data Set\", el cual se puede obtener y detallar en este sitio: http://archive.ics.uci.edu/ml/datasets/Breast+Cancer"
   ]
  },
  {
   "cell_type": "markdown",
   "metadata": {
    "id": "qb3xlL16M_6R"
   },
   "source": [
    "Primeramente procedemos a cargar las librerias necesarias:"
   ]
  },
  {
   "cell_type": "code",
   "execution_count": 5,
   "metadata": {
    "id": "Vzt0hQZ2NSB7"
   },
   "outputs": [],
   "source": [
    "import numpy as np\n",
    "import pandas as pd\n",
    "from matplotlib import pyplot as plt\n",
    "import seaborn as sns \n",
    "%matplotlib inline"
   ]
  },
  {
   "cell_type": "markdown",
   "metadata": {
    "id": "eeTO0eZCOKJf"
   },
   "source": [
    "Se procede a cargar el archivo csv que contiene la data:"
   ]
  },
  {
   "cell_type": "code",
   "execution_count": 6,
   "metadata": {
    "id": "5aNRG856tY64"
   },
   "outputs": [],
   "source": [
    "breast_cancer = pd.read_csv(\"breast-cancer.data\")"
   ]
  },
  {
   "cell_type": "markdown",
   "metadata": {
    "id": "EEVdZjXat37F"
   },
   "source": [
    "Visualizamos las primeras lineas con el fin de tener una primera perspectiva de como se ven los datos"
   ]
  },
  {
   "cell_type": "code",
   "execution_count": 7,
   "metadata": {
    "colab": {
     "base_uri": "https://localhost:8080/"
    },
    "id": "z9rDq4H0uGzE",
    "outputId": "b870bcd7-2381-45a7-f326-b3d2e89fff6e"
   },
   "outputs": [
    {
     "data": {
      "text/plain": [
       "<bound method NDFrame.head of      no-recurrence-events  30-39  premeno  30-34  0-2  no  3   left  \\\n",
       "0    no-recurrence-events  40-49  premeno  20-24  0-2  no  2  right   \n",
       "1    no-recurrence-events  40-49  premeno  20-24  0-2  no  2   left   \n",
       "2    no-recurrence-events  60-69     ge40  15-19  0-2  no  2  right   \n",
       "3    no-recurrence-events  40-49  premeno    0-4  0-2  no  2  right   \n",
       "4    no-recurrence-events  60-69     ge40  15-19  0-2  no  2   left   \n",
       "..                    ...    ...      ...    ...  ...  .. ..    ...   \n",
       "280     recurrence-events  30-39  premeno  30-34  0-2  no  2   left   \n",
       "281     recurrence-events  30-39  premeno  20-24  0-2  no  3   left   \n",
       "282     recurrence-events  60-69     ge40  20-24  0-2  no  1  right   \n",
       "283     recurrence-events  40-49     ge40  30-34  3-5  no  3   left   \n",
       "284     recurrence-events  50-59     ge40  30-34  3-5  no  3   left   \n",
       "\n",
       "      left_low no.1  \n",
       "0     right_up   no  \n",
       "1     left_low   no  \n",
       "2      left_up   no  \n",
       "3    right_low   no  \n",
       "4     left_low   no  \n",
       "..         ...  ...  \n",
       "280    left_up   no  \n",
       "281    left_up  yes  \n",
       "282    left_up   no  \n",
       "283   left_low   no  \n",
       "284   left_low   no  \n",
       "\n",
       "[285 rows x 10 columns]>"
      ]
     },
     "execution_count": 7,
     "metadata": {},
     "output_type": "execute_result"
    }
   ],
   "source": [
    "breast_cancer.head"
   ]
  },
  {
   "cell_type": "markdown",
   "metadata": {
    "id": "nusAmOf43XWs"
   },
   "source": [
    "Agregando encabezados de las columnas, primeramente se crea un arreglo con los  nombres de las columnas para despues colocarlo en la tabla de datos"
   ]
  },
  {
   "cell_type": "code",
   "execution_count": 8,
   "metadata": {
    "id": "q-0ZSh2y8GMZ"
   },
   "outputs": [],
   "source": [
    "column_names =['Class', 'age', 'menopause', 'tumor size', 'inv nodes', 'node caps',\n",
    "       'deg maling', 'breast', 'breast quad', 'irradiat']"
   ]
  },
  {
   "cell_type": "code",
   "execution_count": 9,
   "metadata": {
    "id": "YLlQcM3j4C1i"
   },
   "outputs": [],
   "source": [
    "breast_cancer = pd.read_csv(\"breast-cancer.data\", names = column_names)"
   ]
  },
  {
   "cell_type": "markdown",
   "metadata": {
    "id": "yhIXH7k04HPP"
   },
   "source": [
    "Se presenta ahora la visualización de la data con las primeras lineas con  su respectivo encabezado"
   ]
  },
  {
   "cell_type": "code",
   "execution_count": 10,
   "metadata": {
    "colab": {
     "base_uri": "https://localhost:8080/",
     "height": 204
    },
    "id": "r1llzJ9V4V3t",
    "outputId": "bf5d9e47-9485-49b9-cdbf-af471ab1824e"
   },
   "outputs": [
    {
     "data": {
      "text/html": [
       "<div>\n",
       "<style scoped>\n",
       "    .dataframe tbody tr th:only-of-type {\n",
       "        vertical-align: middle;\n",
       "    }\n",
       "\n",
       "    .dataframe tbody tr th {\n",
       "        vertical-align: top;\n",
       "    }\n",
       "\n",
       "    .dataframe thead th {\n",
       "        text-align: right;\n",
       "    }\n",
       "</style>\n",
       "<table border=\"1\" class=\"dataframe\">\n",
       "  <thead>\n",
       "    <tr style=\"text-align: right;\">\n",
       "      <th></th>\n",
       "      <th>Class</th>\n",
       "      <th>age</th>\n",
       "      <th>menopause</th>\n",
       "      <th>tumor size</th>\n",
       "      <th>inv nodes</th>\n",
       "      <th>node caps</th>\n",
       "      <th>deg maling</th>\n",
       "      <th>breast</th>\n",
       "      <th>breast quad</th>\n",
       "      <th>irradiat</th>\n",
       "    </tr>\n",
       "  </thead>\n",
       "  <tbody>\n",
       "    <tr>\n",
       "      <th>0</th>\n",
       "      <td>no-recurrence-events</td>\n",
       "      <td>30-39</td>\n",
       "      <td>premeno</td>\n",
       "      <td>30-34</td>\n",
       "      <td>0-2</td>\n",
       "      <td>no</td>\n",
       "      <td>3</td>\n",
       "      <td>left</td>\n",
       "      <td>left_low</td>\n",
       "      <td>no</td>\n",
       "    </tr>\n",
       "    <tr>\n",
       "      <th>1</th>\n",
       "      <td>no-recurrence-events</td>\n",
       "      <td>40-49</td>\n",
       "      <td>premeno</td>\n",
       "      <td>20-24</td>\n",
       "      <td>0-2</td>\n",
       "      <td>no</td>\n",
       "      <td>2</td>\n",
       "      <td>right</td>\n",
       "      <td>right_up</td>\n",
       "      <td>no</td>\n",
       "    </tr>\n",
       "    <tr>\n",
       "      <th>2</th>\n",
       "      <td>no-recurrence-events</td>\n",
       "      <td>40-49</td>\n",
       "      <td>premeno</td>\n",
       "      <td>20-24</td>\n",
       "      <td>0-2</td>\n",
       "      <td>no</td>\n",
       "      <td>2</td>\n",
       "      <td>left</td>\n",
       "      <td>left_low</td>\n",
       "      <td>no</td>\n",
       "    </tr>\n",
       "    <tr>\n",
       "      <th>3</th>\n",
       "      <td>no-recurrence-events</td>\n",
       "      <td>60-69</td>\n",
       "      <td>ge40</td>\n",
       "      <td>15-19</td>\n",
       "      <td>0-2</td>\n",
       "      <td>no</td>\n",
       "      <td>2</td>\n",
       "      <td>right</td>\n",
       "      <td>left_up</td>\n",
       "      <td>no</td>\n",
       "    </tr>\n",
       "    <tr>\n",
       "      <th>4</th>\n",
       "      <td>no-recurrence-events</td>\n",
       "      <td>40-49</td>\n",
       "      <td>premeno</td>\n",
       "      <td>0-4</td>\n",
       "      <td>0-2</td>\n",
       "      <td>no</td>\n",
       "      <td>2</td>\n",
       "      <td>right</td>\n",
       "      <td>right_low</td>\n",
       "      <td>no</td>\n",
       "    </tr>\n",
       "  </tbody>\n",
       "</table>\n",
       "</div>"
      ],
      "text/plain": [
       "                  Class    age menopause tumor size inv nodes node caps  \\\n",
       "0  no-recurrence-events  30-39   premeno      30-34       0-2        no   \n",
       "1  no-recurrence-events  40-49   premeno      20-24       0-2        no   \n",
       "2  no-recurrence-events  40-49   premeno      20-24       0-2        no   \n",
       "3  no-recurrence-events  60-69      ge40      15-19       0-2        no   \n",
       "4  no-recurrence-events  40-49   premeno        0-4       0-2        no   \n",
       "\n",
       "   deg maling breast breast quad irradiat  \n",
       "0           3   left    left_low       no  \n",
       "1           2  right    right_up       no  \n",
       "2           2   left    left_low       no  \n",
       "3           2  right     left_up       no  \n",
       "4           2  right   right_low       no  "
      ]
     },
     "execution_count": 10,
     "metadata": {},
     "output_type": "execute_result"
    }
   ],
   "source": [
    "breast_cancer.head()"
   ]
  },
  {
   "cell_type": "markdown",
   "metadata": {
    "id": "HMlhJjFcGu0Z"
   },
   "source": [
    "## ***Analisis Exploratorio de Datos***"
   ]
  },
  {
   "cell_type": "markdown",
   "metadata": {
    "id": "orwNUQTDBLHc"
   },
   "source": [
    "Primeramente procedemos a analizar el tipo de datos de los atributos "
   ]
  },
  {
   "cell_type": "code",
   "execution_count": 11,
   "metadata": {
    "colab": {
     "base_uri": "https://localhost:8080/"
    },
    "id": "5N3QAvJLBU3i",
    "outputId": "f6addd2c-c8c0-4112-fe2f-3bfed3c15c9c"
   },
   "outputs": [
    {
     "data": {
      "text/plain": [
       "Class          object\n",
       "age            object\n",
       "menopause      object\n",
       "tumor size     object\n",
       "inv nodes      object\n",
       "node caps      object\n",
       "deg maling      int64\n",
       "breast         object\n",
       "breast quad    object\n",
       "irradiat       object\n",
       "dtype: object"
      ]
     },
     "execution_count": 11,
     "metadata": {},
     "output_type": "execute_result"
    }
   ],
   "source": [
    "breast_cancer.dtypes"
   ]
  },
  {
   "cell_type": "markdown",
   "metadata": {
    "id": "qI-pOEP-Bmce"
   },
   "source": [
    "Notese que realmente el unico dato númerico(en este caso entero) que se tiene es el grado de malignidad del tumor, sin emnbargo en este punto no se sabe con certeza si los datos son categoricos, para ello se procedera a estudiar con comandos unique and describe, cada atributo "
   ]
  },
  {
   "cell_type": "code",
   "execution_count": 12,
   "metadata": {
    "colab": {
     "base_uri": "https://localhost:8080/"
    },
    "id": "mXG0sr2IHxDY",
    "outputId": "5abb62c4-1734-4108-ad98-d8da89b39442"
   },
   "outputs": [
    {
     "data": {
      "text/plain": [
       "array(['no-recurrence-events', 'recurrence-events'], dtype=object)"
      ]
     },
     "execution_count": 12,
     "metadata": {},
     "output_type": "execute_result"
    }
   ],
   "source": [
    "pd.unique(breast_cancer['Class'])"
   ]
  },
  {
   "cell_type": "code",
   "execution_count": 13,
   "metadata": {
    "colab": {
     "base_uri": "https://localhost:8080/"
    },
    "id": "G9kl_PTyHB2Z",
    "outputId": "93aecee2-4a06-429e-f581-382bd6527fde"
   },
   "outputs": [
    {
     "data": {
      "text/plain": [
       "count                      286\n",
       "unique                       2\n",
       "top       no-recurrence-events\n",
       "freq                       201\n",
       "Name: Class, dtype: object"
      ]
     },
     "execution_count": 13,
     "metadata": {},
     "output_type": "execute_result"
    }
   ],
   "source": [
    "breast_cancer['Class'].describe()"
   ]
  },
  {
   "cell_type": "code",
   "execution_count": 14,
   "metadata": {
    "colab": {
     "base_uri": "https://localhost:8080/"
    },
    "id": "ddKLRcrwIw7p",
    "outputId": "4d158977-53e1-4de7-9201-5a53d2199e4c"
   },
   "outputs": [
    {
     "data": {
      "text/plain": [
       "array(['30-39', '40-49', '60-69', '50-59', '70-79', '20-29'], dtype=object)"
      ]
     },
     "execution_count": 14,
     "metadata": {},
     "output_type": "execute_result"
    }
   ],
   "source": [
    "pd.unique(breast_cancer['age'])"
   ]
  },
  {
   "cell_type": "markdown",
   "metadata": {
    "id": "3vv4wVbaJcKv"
   },
   "source": [
    "Notese que el rango de edades va desde 20 hasta 79, sin embargo los datos no pueden escribirse como un numero exacto, por ende son datos categoricos"
   ]
  },
  {
   "cell_type": "code",
   "execution_count": 15,
   "metadata": {
    "colab": {
     "base_uri": "https://localhost:8080/"
    },
    "id": "dTgSHqKDIw70",
    "outputId": "09eed4e5-b04a-44ed-8824-0334f284ae9e"
   },
   "outputs": [
    {
     "data": {
      "text/plain": [
       "count       286\n",
       "unique        6\n",
       "top       50-59\n",
       "freq         96\n",
       "Name: age, dtype: object"
      ]
     },
     "execution_count": 15,
     "metadata": {},
     "output_type": "execute_result"
    }
   ],
   "source": [
    "breast_cancer['age'].describe()"
   ]
  },
  {
   "cell_type": "code",
   "execution_count": 16,
   "metadata": {
    "colab": {
     "base_uri": "https://localhost:8080/"
    },
    "id": "_lPSG5kZJ1oZ",
    "outputId": "21f255cb-b2fb-4b4c-c1e0-6138466a2175"
   },
   "outputs": [
    {
     "data": {
      "text/plain": [
       "array(['premeno', 'ge40', 'lt40'], dtype=object)"
      ]
     },
     "execution_count": 16,
     "metadata": {},
     "output_type": "execute_result"
    }
   ],
   "source": [
    "pd.unique(breast_cancer['menopause'])"
   ]
  },
  {
   "cell_type": "code",
   "execution_count": 17,
   "metadata": {
    "colab": {
     "base_uri": "https://localhost:8080/"
    },
    "id": "Ah4PGzPZJ1oa",
    "outputId": "b0c630b6-8270-4cd4-c1ef-dc6b162d90c6"
   },
   "outputs": [
    {
     "data": {
      "text/plain": [
       "count         286\n",
       "unique          3\n",
       "top       premeno\n",
       "freq          150\n",
       "Name: menopause, dtype: object"
      ]
     },
     "execution_count": 17,
     "metadata": {},
     "output_type": "execute_result"
    }
   ],
   "source": [
    "breast_cancer['menopause'].describe()"
   ]
  },
  {
   "cell_type": "markdown",
   "metadata": {
    "id": "n_Wpq69O62jz"
   },
   "source": [
    "El atributo menopause tambien corresponde a datos de tipo categorico "
   ]
  },
  {
   "cell_type": "code",
   "execution_count": 18,
   "metadata": {
    "colab": {
     "base_uri": "https://localhost:8080/"
    },
    "id": "_CFlmmt-MHFg",
    "outputId": "8884a470-e2f8-4c4e-eb5f-ba904ce08409"
   },
   "outputs": [
    {
     "data": {
      "text/plain": [
       "array(['30-34', '20-24', '15-19', '0-4', '25-29', '50-54', '10-14',\n",
       "       '40-44', '35-39', '5-9', '45-49'], dtype=object)"
      ]
     },
     "execution_count": 18,
     "metadata": {},
     "output_type": "execute_result"
    }
   ],
   "source": [
    "pd.unique(breast_cancer['tumor size'])"
   ]
  },
  {
   "cell_type": "markdown",
   "metadata": {
    "id": "E7hOtaN1MYYY"
   },
   "source": [
    "Notese que el rango de tamaños de tumor va desde 0 hasta 54 sin embargo tambien es un atributo categorico"
   ]
  },
  {
   "cell_type": "code",
   "execution_count": 19,
   "metadata": {
    "colab": {
     "base_uri": "https://localhost:8080/"
    },
    "id": "-VVnGsu8NEPo",
    "outputId": "8884a470-e2f8-4c4e-eb5f-ba904ce08409"
   },
   "outputs": [
    {
     "data": {
      "text/plain": [
       "array(['0-2', '6-8', '9-11', '3-5', '15-17', '12-14', '24-26'],\n",
       "      dtype=object)"
      ]
     },
     "execution_count": 19,
     "metadata": {},
     "output_type": "execute_result"
    }
   ],
   "source": [
    "pd.unique(breast_cancer['inv nodes'])"
   ]
  },
  {
   "cell_type": "code",
   "execution_count": 20,
   "metadata": {
    "colab": {
     "base_uri": "https://localhost:8080/"
    },
    "id": "GNIkbMByMHFu",
    "outputId": "599593d7-f4a2-4b2f-dafe-0e291c82a718"
   },
   "outputs": [
    {
     "data": {
      "text/plain": [
       "count     286\n",
       "unique      7\n",
       "top       0-2\n",
       "freq      213\n",
       "Name: inv nodes, dtype: object"
      ]
     },
     "execution_count": 20,
     "metadata": {},
     "output_type": "execute_result"
    }
   ],
   "source": [
    "breast_cancer['inv nodes'].describe()"
   ]
  },
  {
   "cell_type": "markdown",
   "metadata": {
    "id": "DClanv20Ndce"
   },
   "source": [
    "Aca se presenta un atributo categorico binario"
   ]
  },
  {
   "cell_type": "code",
   "execution_count": 21,
   "metadata": {
    "colab": {
     "base_uri": "https://localhost:8080/"
    },
    "id": "_jK39bayPAta",
    "outputId": "9df34d23-60dd-4cdf-c257-d5d3cb3288db"
   },
   "outputs": [
    {
     "data": {
      "text/plain": [
       "count     286\n",
       "unique      3\n",
       "top        no\n",
       "freq      222\n",
       "Name: node caps, dtype: object"
      ]
     },
     "execution_count": 21,
     "metadata": {},
     "output_type": "execute_result"
    }
   ],
   "source": [
    "breast_cancer['node caps'].describe()"
   ]
  },
  {
   "cell_type": "code",
   "execution_count": 22,
   "metadata": {
    "colab": {
     "base_uri": "https://localhost:8080/"
    },
    "id": "mQwZc6PvPAtX",
    "outputId": "afadb1e5-b0b6-4233-9ee5-87e4072950a8"
   },
   "outputs": [
    {
     "data": {
      "text/plain": [
       "array(['no', 'yes', '?'], dtype=object)"
      ]
     },
     "execution_count": 22,
     "metadata": {},
     "output_type": "execute_result"
    }
   ],
   "source": [
    "pd.unique(breast_cancer['node caps'])"
   ]
  },
  {
   "cell_type": "markdown",
   "metadata": {
    "id": "nZPkUTO3PsoS"
   },
   "source": [
    "***Aca se encontraron valores de ? *** Este es un tipo  de categoria binaria, sin embargo presenta valores faltantes, estos datos se deben trabajar antes de ser utilizados, esto realizara en una sección posterior "
   ]
  },
  {
   "cell_type": "code",
   "execution_count": 23,
   "metadata": {
    "colab": {
     "base_uri": "https://localhost:8080/"
    },
    "id": "7FFLjzWjNqnK",
    "outputId": "52f903c6-41b0-44ef-ee95-99167d0a67cb"
   },
   "outputs": [
    {
     "data": {
      "text/plain": [
       "count    286.000000\n",
       "mean       2.048951\n",
       "std        0.738217\n",
       "min        1.000000\n",
       "25%        2.000000\n",
       "50%        2.000000\n",
       "75%        3.000000\n",
       "max        3.000000\n",
       "Name: deg maling, dtype: float64"
      ]
     },
     "execution_count": 23,
     "metadata": {},
     "output_type": "execute_result"
    }
   ],
   "source": [
    "breast_cancer['deg maling'].describe()"
   ]
  },
  {
   "cell_type": "code",
   "execution_count": 24,
   "metadata": {
    "colab": {
     "base_uri": "https://localhost:8080/"
    },
    "id": "1Q3wG-hdNqnU",
    "outputId": "42598708-5597-4157-fccc-363aad5745c1"
   },
   "outputs": [
    {
     "data": {
      "text/plain": [
       "array([3, 2, 1], dtype=int64)"
      ]
     },
     "execution_count": 24,
     "metadata": {},
     "output_type": "execute_result"
    }
   ],
   "source": [
    "pd.unique(breast_cancer['deg maling'])"
   ]
  },
  {
   "cell_type": "markdown",
   "metadata": {
    "id": "vUqNLKSyVeYk"
   },
   "source": [
    "  El grado de malignidad realmente es un atributo categorico y no variable por tanto los datos estadisticos obtenidos con el comando describe realmente no aportan información valiosa"
   ]
  },
  {
   "cell_type": "code",
   "execution_count": 25,
   "metadata": {
    "colab": {
     "base_uri": "https://localhost:8080/"
    },
    "id": "dEeQ80uMZL79",
    "outputId": "e4eaef4d-7b49-4bb7-e938-98c05ab2c353"
   },
   "outputs": [
    {
     "data": {
      "text/plain": [
       "count      286\n",
       "unique       2\n",
       "top       left\n",
       "freq       152\n",
       "Name: breast, dtype: object"
      ]
     },
     "execution_count": 25,
     "metadata": {},
     "output_type": "execute_result"
    }
   ],
   "source": [
    "breast_cancer['breast'].describe()"
   ]
  },
  {
   "cell_type": "code",
   "execution_count": 26,
   "metadata": {
    "colab": {
     "base_uri": "https://localhost:8080/"
    },
    "id": "k8F3kY0bZL8G",
    "outputId": "192f9d10-0ace-45d8-8884-24a713ab4df0"
   },
   "outputs": [
    {
     "data": {
      "text/plain": [
       "array(['left', 'right'], dtype=object)"
      ]
     },
     "execution_count": 26,
     "metadata": {},
     "output_type": "execute_result"
    }
   ],
   "source": [
    "pd.unique(breast_cancer['breast'])"
   ]
  },
  {
   "cell_type": "markdown",
   "metadata": {
    "id": "YN8YUF7DZL8H"
   },
   "source": [
    "Este es un tipo  de categoria binaria"
   ]
  },
  {
   "cell_type": "code",
   "execution_count": 27,
   "metadata": {
    "colab": {
     "base_uri": "https://localhost:8080/"
    },
    "id": "ztP2fH54akwy",
    "outputId": "4f382201-c4cd-4ee9-e718-db5c341a6d0b"
   },
   "outputs": [
    {
     "data": {
      "text/plain": [
       "count          286\n",
       "unique           6\n",
       "top       left_low\n",
       "freq           110\n",
       "Name: breast quad, dtype: object"
      ]
     },
     "execution_count": 27,
     "metadata": {},
     "output_type": "execute_result"
    }
   ],
   "source": [
    "breast_cancer['breast quad'].describe()"
   ]
  },
  {
   "cell_type": "code",
   "execution_count": 28,
   "metadata": {
    "colab": {
     "base_uri": "https://localhost:8080/"
    },
    "id": "xCvSSVntakw9",
    "outputId": "72ba1be0-9899-41fa-b71b-1d3b8614da6b"
   },
   "outputs": [
    {
     "data": {
      "text/plain": [
       "array(['left_low', 'right_up', 'left_up', 'right_low', 'central', '?'],\n",
       "      dtype=object)"
      ]
     },
     "execution_count": 28,
     "metadata": {},
     "output_type": "execute_result"
    }
   ],
   "source": [
    "pd.unique(breast_cancer['breast quad'])"
   ]
  },
  {
   "cell_type": "markdown",
   "metadata": {
    "id": "Mbq3qpdqbMMB"
   },
   "source": [
    "Este tambien es un atributo categorico "
   ]
  },
  {
   "cell_type": "code",
   "execution_count": 29,
   "metadata": {
    "colab": {
     "base_uri": "https://localhost:8080/"
    },
    "id": "k5XBDPm7bYm1",
    "outputId": "e4eaef4d-7b49-4bb7-e938-98c05ab2c353"
   },
   "outputs": [
    {
     "data": {
      "text/plain": [
       "count     286\n",
       "unique      2\n",
       "top        no\n",
       "freq      218\n",
       "Name: irradiat, dtype: object"
      ]
     },
     "execution_count": 29,
     "metadata": {},
     "output_type": "execute_result"
    }
   ],
   "source": [
    "breast_cancer['irradiat'].describe()"
   ]
  },
  {
   "cell_type": "code",
   "execution_count": 30,
   "metadata": {
    "colab": {
     "base_uri": "https://localhost:8080/"
    },
    "id": "Upi5kn_xbYm2",
    "outputId": "192f9d10-0ace-45d8-8884-24a713ab4df0"
   },
   "outputs": [
    {
     "data": {
      "text/plain": [
       "array(['no', 'yes'], dtype=object)"
      ]
     },
     "execution_count": 30,
     "metadata": {},
     "output_type": "execute_result"
    }
   ],
   "source": [
    "pd.unique(breast_cancer['irradiat'])"
   ]
  },
  {
   "cell_type": "markdown",
   "metadata": {
    "id": "WodYuPs-bYm2"
   },
   "source": [
    "Finalmente este es un tipo  de categoria binaria"
   ]
  },
  {
   "cell_type": "markdown",
   "metadata": {
    "id": "72AXqNGGX2_m"
   },
   "source": [
    "### Gráficas de atributos"
   ]
  },
  {
   "cell_type": "markdown",
   "metadata": {
    "id": "FH3Vkscwb7FL"
   },
   "source": [
    "Se procede a graficar la Clase, es decir cuales pacientes presentan eventos recurrentes o no en funcion de los atributos para con ello ver su correlación"
   ]
  },
  {
   "cell_type": "code",
   "execution_count": 31,
   "metadata": {
    "colab": {
     "base_uri": "https://localhost:8080/",
     "height": 279
    },
    "id": "Rpmr1iQSWSLO",
    "outputId": "6e03c5b1-abc2-4338-f768-385238496aad"
   },
   "outputs": [
    {
     "data": {
      "image/png": "[encoded data removed]",
      "text/plain": [
       "<Figure size 432x288 with 1 Axes>"
      ]
     },
     "metadata": {
      "needs_background": "light"
     },
     "output_type": "display_data"
    }
   ],
   "source": [
    "\n",
    "plt.figure()\n",
    "sns.countplot(x='age', hue='Class', data=breast_cancer, palette='RdBu')\n",
    "plt.show()"
   ]
  },
  {
   "cell_type": "code",
   "execution_count": 32,
   "metadata": {
    "colab": {
     "base_uri": "https://localhost:8080/",
     "height": 279
    },
    "id": "Z3Edb1-evsIW",
    "outputId": "c1f0cd49-f835-42b9-cd0e-df34ffef77e0"
   },
   "outputs": [
    {
     "data": {
      "image/png": "[encoded data removed]",
      "text/plain": [
       "<Figure size 432x288 with 1 Axes>"
      ]
     },
     "metadata": {
      "needs_background": "light"
     },
     "output_type": "display_data"
    }
   ],
   "source": [
    "\n",
    "plt.figure()\n",
    "sns.countplot(x='menopause', hue='Class', data=breast_cancer, palette='RdBu')\n",
    "plt.show()"
   ]
  },
  {
   "cell_type": "code",
   "execution_count": 33,
   "metadata": {
    "colab": {
     "base_uri": "https://localhost:8080/",
     "height": 279
    },
    "id": "EyUg5jF3wLLc",
    "outputId": "47e64562-22ab-4a36-c5f1-05689a61a06e"
   },
   "outputs": [
    {
     "data": {
      "image/png": "[encoded data removed]",
      "text/plain": [
       "<Figure size 432x288 with 1 Axes>"
      ]
     },
     "metadata": {
      "needs_background": "light"
     },
     "output_type": "display_data"
    }
   ],
   "source": [
    "\n",
    "plt.figure()\n",
    "sns.countplot(x='tumor size', hue='Class', data=breast_cancer, palette='RdBu')\n",
    "plt.show()"
   ]
  },
  {
   "cell_type": "code",
   "execution_count": 34,
   "metadata": {
    "colab": {
     "base_uri": "https://localhost:8080/",
     "height": 279
    },
    "id": "NLWh_rZQw2uU",
    "outputId": "ed9851e8-58f4-4282-a715-9371acb940f5"
   },
   "outputs": [
    {
     "data": {
      "image/png": "[encoded data removed]",
      "text/plain": [
       "<Figure size 432x288 with 1 Axes>"
      ]
     },
     "metadata": {
      "needs_background": "light"
     },
     "output_type": "display_data"
    }
   ],
   "source": [
    "\n",
    "plt.figure()\n",
    "sns.countplot(x='inv nodes', hue='Class', data=breast_cancer, palette='RdBu')\n",
    "plt.show()"
   ]
  },
  {
   "cell_type": "markdown",
   "metadata": {
    "id": "GVeNf5W2yxve"
   },
   "source": [
    "El atributo de edad muestra una alta no recurrencia para los rangos entre 30 y 69 años, mientras que el de inv nodes muestra que es muy probable que entre 0 y 2 no exista recurrencia, se trabaja con esas graficas dado que las de menopausia y tamaño del tumor tienen una distribuvion mas equitativa para ambos tipos de clase.\n",
    "\n"
   ]
  },
  {
   "cell_type": "markdown",
   "metadata": {},
   "source": [
    "# Preprocesado de los datos"
   ]
  },
  {
   "cell_type": "markdown",
   "metadata": {
    "id": "snX6FhDq_vFy"
   },
   "source": [
    "## Técnica de sustitución de valores faltantes "
   ]
  },
  {
   "cell_type": "markdown",
   "metadata": {
    "id": "3VANQ_cwAbq8"
   },
   "source": [
    "Como se menciona previamente en la columna de node caps se encuentran valores faltantes, se sustituyen los \"?\" por  Nan y posteriormente se deciden eliminar"
   ]
  },
  {
   "cell_type": "code",
   "execution_count": 35,
   "metadata": {
    "id": "ht1VUi2iBOYb"
   },
   "outputs": [],
   "source": [
    "breast_cancer.replace(to_replace='?', value = np.nan, inplace = True)"
   ]
  },
  {
   "cell_type": "code",
   "execution_count": 36,
   "metadata": {
    "colab": {
     "base_uri": "https://localhost:8080/"
    },
    "id": "pM0Gs_uDBm05",
    "outputId": "1948f6d8-a111-43e5-c20a-e257abd15e43"
   },
   "outputs": [
    {
     "data": {
      "text/plain": [
       "array(['no', 'yes', nan], dtype=object)"
      ]
     },
     "execution_count": 36,
     "metadata": {},
     "output_type": "execute_result"
    }
   ],
   "source": [
    "pd.unique(breast_cancer['node caps'])"
   ]
  },
  {
   "cell_type": "markdown",
   "metadata": {
    "id": "vdbZ1WOoCFiB"
   },
   "source": [
    "Notese que ahora efectivamente aparecen nan y no signos de ?"
   ]
  },
  {
   "cell_type": "code",
   "execution_count": 37,
   "metadata": {
    "id": "DNuI4CQPEdM7"
   },
   "outputs": [],
   "source": [
    "breast_cancer= breast_cancer.dropna()"
   ]
  },
  {
   "cell_type": "code",
   "execution_count": 38,
   "metadata": {
    "colab": {
     "base_uri": "https://localhost:8080/"
    },
    "id": "EVvQkuwmEpzA",
    "outputId": "dfae057a-7c9a-49f6-feba-2f4cba68bedd"
   },
   "outputs": [
    {
     "data": {
      "text/plain": [
       "array(['no', 'yes'], dtype=object)"
      ]
     },
     "execution_count": 38,
     "metadata": {},
     "output_type": "execute_result"
    }
   ],
   "source": [
    "pd.unique(breast_cancer['node caps'])"
   ]
  },
  {
   "cell_type": "markdown",
   "metadata": {
    "id": "VELtPuBIFNon"
   },
   "source": [
    "Aca se han eliminado los datos que presentaban nan"
   ]
  },
  {
   "cell_type": "markdown",
   "metadata": {},
   "source": [
    "## One Hot encoding"
   ]
  },
  {
   "cell_type": "markdown",
   "metadata": {},
   "source": [
    "Se procede a hacer el one hot encoding para todos los atributos de mas de 2 categorias, concatenandolos al set de datos para actualizarlo, se le llamará finaldataset"
   ]
  },
  {
   "cell_type": "code",
   "execution_count": 39,
   "metadata": {},
   "outputs": [],
   "source": [
    "finaldataset=pd.get_dummies(breast_cancer, columns=['age']) \n",
    "finaldataset=pd.get_dummies(finaldataset, columns=['menopause'])  \n",
    "finaldataset=pd.get_dummies(finaldataset, columns=['tumor size']) \n",
    "finaldataset=pd.get_dummies(finaldataset, columns=['inv nodes']) \n",
    "finaldataset=pd.get_dummies(finaldataset, columns=['breast quad']) \n",
    "finaldataset=pd.get_dummies(finaldataset, columns=['deg maling']) \n"
   ]
  },
  {
   "cell_type": "code",
   "execution_count": 41,
   "metadata": {},
   "outputs": [
    {
     "data": {
      "text/html": [
       "<div>\n",
       "<style scoped>\n",
       "    .dataframe tbody tr th:only-of-type {\n",
       "        vertical-align: middle;\n",
       "    }\n",
       "\n",
       "    .dataframe tbody tr th {\n",
       "        vertical-align: top;\n",
       "    }\n",
       "\n",
       "    .dataframe thead th {\n",
       "        text-align: right;\n",
       "    }\n",
       "</style>\n",
       "<table border=\"1\" class=\"dataframe\">\n",
       "  <thead>\n",
       "    <tr style=\"text-align: right;\">\n",
       "      <th></th>\n",
       "      <th>Class</th>\n",
       "      <th>node caps</th>\n",
       "      <th>breast</th>\n",
       "      <th>irradiat</th>\n",
       "      <th>age_20-29</th>\n",
       "      <th>age_30-39</th>\n",
       "      <th>age_40-49</th>\n",
       "      <th>age_50-59</th>\n",
       "      <th>age_60-69</th>\n",
       "      <th>age_70-79</th>\n",
       "      <th>...</th>\n",
       "      <th>inv nodes_6-8</th>\n",
       "      <th>inv nodes_9-11</th>\n",
       "      <th>breast quad_central</th>\n",
       "      <th>breast quad_left_low</th>\n",
       "      <th>breast quad_left_up</th>\n",
       "      <th>breast quad_right_low</th>\n",
       "      <th>breast quad_right_up</th>\n",
       "      <th>deg maling_1</th>\n",
       "      <th>deg maling_2</th>\n",
       "      <th>deg maling_3</th>\n",
       "    </tr>\n",
       "  </thead>\n",
       "  <tbody>\n",
       "    <tr>\n",
       "      <th>0</th>\n",
       "      <td>no-recurrence-events</td>\n",
       "      <td>no</td>\n",
       "      <td>left</td>\n",
       "      <td>no</td>\n",
       "      <td>0</td>\n",
       "      <td>1</td>\n",
       "      <td>0</td>\n",
       "      <td>0</td>\n",
       "      <td>0</td>\n",
       "      <td>0</td>\n",
       "      <td>...</td>\n",
       "      <td>0</td>\n",
       "      <td>0</td>\n",
       "      <td>0</td>\n",
       "      <td>1</td>\n",
       "      <td>0</td>\n",
       "      <td>0</td>\n",
       "      <td>0</td>\n",
       "      <td>0</td>\n",
       "      <td>0</td>\n",
       "      <td>1</td>\n",
       "    </tr>\n",
       "    <tr>\n",
       "      <th>1</th>\n",
       "      <td>no-recurrence-events</td>\n",
       "      <td>no</td>\n",
       "      <td>right</td>\n",
       "      <td>no</td>\n",
       "      <td>0</td>\n",
       "      <td>0</td>\n",
       "      <td>1</td>\n",
       "      <td>0</td>\n",
       "      <td>0</td>\n",
       "      <td>0</td>\n",
       "      <td>...</td>\n",
       "      <td>0</td>\n",
       "      <td>0</td>\n",
       "      <td>0</td>\n",
       "      <td>0</td>\n",
       "      <td>0</td>\n",
       "      <td>0</td>\n",
       "      <td>1</td>\n",
       "      <td>0</td>\n",
       "      <td>1</td>\n",
       "      <td>0</td>\n",
       "    </tr>\n",
       "    <tr>\n",
       "      <th>2</th>\n",
       "      <td>no-recurrence-events</td>\n",
       "      <td>no</td>\n",
       "      <td>left</td>\n",
       "      <td>no</td>\n",
       "      <td>0</td>\n",
       "      <td>0</td>\n",
       "      <td>1</td>\n",
       "      <td>0</td>\n",
       "      <td>0</td>\n",
       "      <td>0</td>\n",
       "      <td>...</td>\n",
       "      <td>0</td>\n",
       "      <td>0</td>\n",
       "      <td>0</td>\n",
       "      <td>1</td>\n",
       "      <td>0</td>\n",
       "      <td>0</td>\n",
       "      <td>0</td>\n",
       "      <td>0</td>\n",
       "      <td>1</td>\n",
       "      <td>0</td>\n",
       "    </tr>\n",
       "    <tr>\n",
       "      <th>3</th>\n",
       "      <td>no-recurrence-events</td>\n",
       "      <td>no</td>\n",
       "      <td>right</td>\n",
       "      <td>no</td>\n",
       "      <td>0</td>\n",
       "      <td>0</td>\n",
       "      <td>0</td>\n",
       "      <td>0</td>\n",
       "      <td>1</td>\n",
       "      <td>0</td>\n",
       "      <td>...</td>\n",
       "      <td>0</td>\n",
       "      <td>0</td>\n",
       "      <td>0</td>\n",
       "      <td>0</td>\n",
       "      <td>1</td>\n",
       "      <td>0</td>\n",
       "      <td>0</td>\n",
       "      <td>0</td>\n",
       "      <td>1</td>\n",
       "      <td>0</td>\n",
       "    </tr>\n",
       "    <tr>\n",
       "      <th>4</th>\n",
       "      <td>no-recurrence-events</td>\n",
       "      <td>no</td>\n",
       "      <td>right</td>\n",
       "      <td>no</td>\n",
       "      <td>0</td>\n",
       "      <td>0</td>\n",
       "      <td>1</td>\n",
       "      <td>0</td>\n",
       "      <td>0</td>\n",
       "      <td>0</td>\n",
       "      <td>...</td>\n",
       "      <td>0</td>\n",
       "      <td>0</td>\n",
       "      <td>0</td>\n",
       "      <td>0</td>\n",
       "      <td>0</td>\n",
       "      <td>1</td>\n",
       "      <td>0</td>\n",
       "      <td>0</td>\n",
       "      <td>1</td>\n",
       "      <td>0</td>\n",
       "    </tr>\n",
       "    <tr>\n",
       "      <th>...</th>\n",
       "      <td>...</td>\n",
       "      <td>...</td>\n",
       "      <td>...</td>\n",
       "      <td>...</td>\n",
       "      <td>...</td>\n",
       "      <td>...</td>\n",
       "      <td>...</td>\n",
       "      <td>...</td>\n",
       "      <td>...</td>\n",
       "      <td>...</td>\n",
       "      <td>...</td>\n",
       "      <td>...</td>\n",
       "      <td>...</td>\n",
       "      <td>...</td>\n",
       "      <td>...</td>\n",
       "      <td>...</td>\n",
       "      <td>...</td>\n",
       "      <td>...</td>\n",
       "      <td>...</td>\n",
       "      <td>...</td>\n",
       "      <td>...</td>\n",
       "    </tr>\n",
       "    <tr>\n",
       "      <th>281</th>\n",
       "      <td>recurrence-events</td>\n",
       "      <td>no</td>\n",
       "      <td>left</td>\n",
       "      <td>no</td>\n",
       "      <td>0</td>\n",
       "      <td>1</td>\n",
       "      <td>0</td>\n",
       "      <td>0</td>\n",
       "      <td>0</td>\n",
       "      <td>0</td>\n",
       "      <td>...</td>\n",
       "      <td>0</td>\n",
       "      <td>0</td>\n",
       "      <td>0</td>\n",
       "      <td>0</td>\n",
       "      <td>1</td>\n",
       "      <td>0</td>\n",
       "      <td>0</td>\n",
       "      <td>0</td>\n",
       "      <td>1</td>\n",
       "      <td>0</td>\n",
       "    </tr>\n",
       "    <tr>\n",
       "      <th>282</th>\n",
       "      <td>recurrence-events</td>\n",
       "      <td>no</td>\n",
       "      <td>left</td>\n",
       "      <td>yes</td>\n",
       "      <td>0</td>\n",
       "      <td>1</td>\n",
       "      <td>0</td>\n",
       "      <td>0</td>\n",
       "      <td>0</td>\n",
       "      <td>0</td>\n",
       "      <td>...</td>\n",
       "      <td>0</td>\n",
       "      <td>0</td>\n",
       "      <td>0</td>\n",
       "      <td>0</td>\n",
       "      <td>1</td>\n",
       "      <td>0</td>\n",
       "      <td>0</td>\n",
       "      <td>0</td>\n",
       "      <td>0</td>\n",
       "      <td>1</td>\n",
       "    </tr>\n",
       "    <tr>\n",
       "      <th>283</th>\n",
       "      <td>recurrence-events</td>\n",
       "      <td>no</td>\n",
       "      <td>right</td>\n",
       "      <td>no</td>\n",
       "      <td>0</td>\n",
       "      <td>0</td>\n",
       "      <td>0</td>\n",
       "      <td>0</td>\n",
       "      <td>1</td>\n",
       "      <td>0</td>\n",
       "      <td>...</td>\n",
       "      <td>0</td>\n",
       "      <td>0</td>\n",
       "      <td>0</td>\n",
       "      <td>0</td>\n",
       "      <td>1</td>\n",
       "      <td>0</td>\n",
       "      <td>0</td>\n",
       "      <td>1</td>\n",
       "      <td>0</td>\n",
       "      <td>0</td>\n",
       "    </tr>\n",
       "    <tr>\n",
       "      <th>284</th>\n",
       "      <td>recurrence-events</td>\n",
       "      <td>no</td>\n",
       "      <td>left</td>\n",
       "      <td>no</td>\n",
       "      <td>0</td>\n",
       "      <td>0</td>\n",
       "      <td>1</td>\n",
       "      <td>0</td>\n",
       "      <td>0</td>\n",
       "      <td>0</td>\n",
       "      <td>...</td>\n",
       "      <td>0</td>\n",
       "      <td>0</td>\n",
       "      <td>0</td>\n",
       "      <td>1</td>\n",
       "      <td>0</td>\n",
       "      <td>0</td>\n",
       "      <td>0</td>\n",
       "      <td>0</td>\n",
       "      <td>0</td>\n",
       "      <td>1</td>\n",
       "    </tr>\n",
       "    <tr>\n",
       "      <th>285</th>\n",
       "      <td>recurrence-events</td>\n",
       "      <td>no</td>\n",
       "      <td>left</td>\n",
       "      <td>no</td>\n",
       "      <td>0</td>\n",
       "      <td>0</td>\n",
       "      <td>0</td>\n",
       "      <td>1</td>\n",
       "      <td>0</td>\n",
       "      <td>0</td>\n",
       "      <td>...</td>\n",
       "      <td>0</td>\n",
       "      <td>0</td>\n",
       "      <td>0</td>\n",
       "      <td>1</td>\n",
       "      <td>0</td>\n",
       "      <td>0</td>\n",
       "      <td>0</td>\n",
       "      <td>0</td>\n",
       "      <td>0</td>\n",
       "      <td>1</td>\n",
       "    </tr>\n",
       "  </tbody>\n",
       "</table>\n",
       "<p>277 rows × 39 columns</p>\n",
       "</div>"
      ],
      "text/plain": [
       "                    Class node caps breast irradiat  age_20-29  age_30-39  \\\n",
       "0    no-recurrence-events        no   left       no          0          1   \n",
       "1    no-recurrence-events        no  right       no          0          0   \n",
       "2    no-recurrence-events        no   left       no          0          0   \n",
       "3    no-recurrence-events        no  right       no          0          0   \n",
       "4    no-recurrence-events        no  right       no          0          0   \n",
       "..                    ...       ...    ...      ...        ...        ...   \n",
       "281     recurrence-events        no   left       no          0          1   \n",
       "282     recurrence-events        no   left      yes          0          1   \n",
       "283     recurrence-events        no  right       no          0          0   \n",
       "284     recurrence-events        no   left       no          0          0   \n",
       "285     recurrence-events        no   left       no          0          0   \n",
       "\n",
       "     age_40-49  age_50-59  age_60-69  age_70-79  ...  inv nodes_6-8  \\\n",
       "0            0          0          0          0  ...              0   \n",
       "1            1          0          0          0  ...              0   \n",
       "2            1          0          0          0  ...              0   \n",
       "3            0          0          1          0  ...              0   \n",
       "4            1          0          0          0  ...              0   \n",
       "..         ...        ...        ...        ...  ...            ...   \n",
       "281          0          0          0          0  ...              0   \n",
       "282          0          0          0          0  ...              0   \n",
       "283          0          0          1          0  ...              0   \n",
       "284          1          0          0          0  ...              0   \n",
       "285          0          1          0          0  ...              0   \n",
       "\n",
       "     inv nodes_9-11  breast quad_central  breast quad_left_low  \\\n",
       "0                 0                    0                     1   \n",
       "1                 0                    0                     0   \n",
       "2                 0                    0                     1   \n",
       "3                 0                    0                     0   \n",
       "4                 0                    0                     0   \n",
       "..              ...                  ...                   ...   \n",
       "281               0                    0                     0   \n",
       "282               0                    0                     0   \n",
       "283               0                    0                     0   \n",
       "284               0                    0                     1   \n",
       "285               0                    0                     1   \n",
       "\n",
       "     breast quad_left_up  breast quad_right_low  breast quad_right_up  \\\n",
       "0                      0                      0                     0   \n",
       "1                      0                      0                     1   \n",
       "2                      0                      0                     0   \n",
       "3                      1                      0                     0   \n",
       "4                      0                      1                     0   \n",
       "..                   ...                    ...                   ...   \n",
       "281                    1                      0                     0   \n",
       "282                    1                      0                     0   \n",
       "283                    1                      0                     0   \n",
       "284                    0                      0                     0   \n",
       "285                    0                      0                     0   \n",
       "\n",
       "     deg maling_1  deg maling_2  deg maling_3  \n",
       "0               0             0             1  \n",
       "1               0             1             0  \n",
       "2               0             1             0  \n",
       "3               0             1             0  \n",
       "4               0             1             0  \n",
       "..            ...           ...           ...  \n",
       "281             0             1             0  \n",
       "282             0             0             1  \n",
       "283             1             0             0  \n",
       "284             0             0             1  \n",
       "285             0             0             1  \n",
       "\n",
       "[277 rows x 39 columns]"
      ]
     },
     "execution_count": 41,
     "metadata": {},
     "output_type": "execute_result"
    }
   ],
   "source": [
    "finaldataset"
   ]
  },
  {
   "cell_type": "markdown",
   "metadata": {},
   "source": [
    "Segón la vista preliminar mostrada, aun se deebe preprocesar las primeras 4 columnas, observese que dichas categorias son binarias "
   ]
  },
  {
   "cell_type": "markdown",
   "metadata": {},
   "source": [
    "## Categorias Binarias\n"
   ]
  },
  {
   "cell_type": "code",
   "execution_count": 42,
   "metadata": {},
   "outputs": [],
   "source": [
    "\n",
    "finaldataset['Class'] = finaldataset['Class'].replace({'no-recurrence-events' : 0, 'recurrence-events' : 1})\n",
    "finaldataset['node caps'] = finaldataset['node caps'].replace({'no' : 0, 'yes' : 1})\n",
    "finaldataset['irradiat'] = finaldataset['irradiat'].replace({'no' : 0, 'yes' : 1}) \n",
    "finaldataset['breast'] = finaldataset['breast'].replace({'left' : 0, 'right' : 1})\n"
   ]
  },
  {
   "cell_type": "code",
   "execution_count": 43,
   "metadata": {
    "scrolled": true
   },
   "outputs": [
    {
     "data": {
      "text/html": [
       "<div>\n",
       "<style scoped>\n",
       "    .dataframe tbody tr th:only-of-type {\n",
       "        vertical-align: middle;\n",
       "    }\n",
       "\n",
       "    .dataframe tbody tr th {\n",
       "        vertical-align: top;\n",
       "    }\n",
       "\n",
       "    .dataframe thead th {\n",
       "        text-align: right;\n",
       "    }\n",
       "</style>\n",
       "<table border=\"1\" class=\"dataframe\">\n",
       "  <thead>\n",
       "    <tr style=\"text-align: right;\">\n",
       "      <th></th>\n",
       "      <th>Class</th>\n",
       "      <th>node caps</th>\n",
       "      <th>breast</th>\n",
       "      <th>irradiat</th>\n",
       "      <th>age_20-29</th>\n",
       "      <th>age_30-39</th>\n",
       "      <th>age_40-49</th>\n",
       "      <th>age_50-59</th>\n",
       "      <th>age_60-69</th>\n",
       "      <th>age_70-79</th>\n",
       "      <th>...</th>\n",
       "      <th>inv nodes_6-8</th>\n",
       "      <th>inv nodes_9-11</th>\n",
       "      <th>breast quad_central</th>\n",
       "      <th>breast quad_left_low</th>\n",
       "      <th>breast quad_left_up</th>\n",
       "      <th>breast quad_right_low</th>\n",
       "      <th>breast quad_right_up</th>\n",
       "      <th>deg maling_1</th>\n",
       "      <th>deg maling_2</th>\n",
       "      <th>deg maling_3</th>\n",
       "    </tr>\n",
       "  </thead>\n",
       "  <tbody>\n",
       "    <tr>\n",
       "      <th>0</th>\n",
       "      <td>0</td>\n",
       "      <td>0</td>\n",
       "      <td>0</td>\n",
       "      <td>0</td>\n",
       "      <td>0</td>\n",
       "      <td>1</td>\n",
       "      <td>0</td>\n",
       "      <td>0</td>\n",
       "      <td>0</td>\n",
       "      <td>0</td>\n",
       "      <td>...</td>\n",
       "      <td>0</td>\n",
       "      <td>0</td>\n",
       "      <td>0</td>\n",
       "      <td>1</td>\n",
       "      <td>0</td>\n",
       "      <td>0</td>\n",
       "      <td>0</td>\n",
       "      <td>0</td>\n",
       "      <td>0</td>\n",
       "      <td>1</td>\n",
       "    </tr>\n",
       "    <tr>\n",
       "      <th>1</th>\n",
       "      <td>0</td>\n",
       "      <td>0</td>\n",
       "      <td>1</td>\n",
       "      <td>0</td>\n",
       "      <td>0</td>\n",
       "      <td>0</td>\n",
       "      <td>1</td>\n",
       "      <td>0</td>\n",
       "      <td>0</td>\n",
       "      <td>0</td>\n",
       "      <td>...</td>\n",
       "      <td>0</td>\n",
       "      <td>0</td>\n",
       "      <td>0</td>\n",
       "      <td>0</td>\n",
       "      <td>0</td>\n",
       "      <td>0</td>\n",
       "      <td>1</td>\n",
       "      <td>0</td>\n",
       "      <td>1</td>\n",
       "      <td>0</td>\n",
       "    </tr>\n",
       "    <tr>\n",
       "      <th>2</th>\n",
       "      <td>0</td>\n",
       "      <td>0</td>\n",
       "      <td>0</td>\n",
       "      <td>0</td>\n",
       "      <td>0</td>\n",
       "      <td>0</td>\n",
       "      <td>1</td>\n",
       "      <td>0</td>\n",
       "      <td>0</td>\n",
       "      <td>0</td>\n",
       "      <td>...</td>\n",
       "      <td>0</td>\n",
       "      <td>0</td>\n",
       "      <td>0</td>\n",
       "      <td>1</td>\n",
       "      <td>0</td>\n",
       "      <td>0</td>\n",
       "      <td>0</td>\n",
       "      <td>0</td>\n",
       "      <td>1</td>\n",
       "      <td>0</td>\n",
       "    </tr>\n",
       "    <tr>\n",
       "      <th>3</th>\n",
       "      <td>0</td>\n",
       "      <td>0</td>\n",
       "      <td>1</td>\n",
       "      <td>0</td>\n",
       "      <td>0</td>\n",
       "      <td>0</td>\n",
       "      <td>0</td>\n",
       "      <td>0</td>\n",
       "      <td>1</td>\n",
       "      <td>0</td>\n",
       "      <td>...</td>\n",
       "      <td>0</td>\n",
       "      <td>0</td>\n",
       "      <td>0</td>\n",
       "      <td>0</td>\n",
       "      <td>1</td>\n",
       "      <td>0</td>\n",
       "      <td>0</td>\n",
       "      <td>0</td>\n",
       "      <td>1</td>\n",
       "      <td>0</td>\n",
       "    </tr>\n",
       "    <tr>\n",
       "      <th>4</th>\n",
       "      <td>0</td>\n",
       "      <td>0</td>\n",
       "      <td>1</td>\n",
       "      <td>0</td>\n",
       "      <td>0</td>\n",
       "      <td>0</td>\n",
       "      <td>1</td>\n",
       "      <td>0</td>\n",
       "      <td>0</td>\n",
       "      <td>0</td>\n",
       "      <td>...</td>\n",
       "      <td>0</td>\n",
       "      <td>0</td>\n",
       "      <td>0</td>\n",
       "      <td>0</td>\n",
       "      <td>0</td>\n",
       "      <td>1</td>\n",
       "      <td>0</td>\n",
       "      <td>0</td>\n",
       "      <td>1</td>\n",
       "      <td>0</td>\n",
       "    </tr>\n",
       "    <tr>\n",
       "      <th>...</th>\n",
       "      <td>...</td>\n",
       "      <td>...</td>\n",
       "      <td>...</td>\n",
       "      <td>...</td>\n",
       "      <td>...</td>\n",
       "      <td>...</td>\n",
       "      <td>...</td>\n",
       "      <td>...</td>\n",
       "      <td>...</td>\n",
       "      <td>...</td>\n",
       "      <td>...</td>\n",
       "      <td>...</td>\n",
       "      <td>...</td>\n",
       "      <td>...</td>\n",
       "      <td>...</td>\n",
       "      <td>...</td>\n",
       "      <td>...</td>\n",
       "      <td>...</td>\n",
       "      <td>...</td>\n",
       "      <td>...</td>\n",
       "      <td>...</td>\n",
       "    </tr>\n",
       "    <tr>\n",
       "      <th>281</th>\n",
       "      <td>1</td>\n",
       "      <td>0</td>\n",
       "      <td>0</td>\n",
       "      <td>0</td>\n",
       "      <td>0</td>\n",
       "      <td>1</td>\n",
       "      <td>0</td>\n",
       "      <td>0</td>\n",
       "      <td>0</td>\n",
       "      <td>0</td>\n",
       "      <td>...</td>\n",
       "      <td>0</td>\n",
       "      <td>0</td>\n",
       "      <td>0</td>\n",
       "      <td>0</td>\n",
       "      <td>1</td>\n",
       "      <td>0</td>\n",
       "      <td>0</td>\n",
       "      <td>0</td>\n",
       "      <td>1</td>\n",
       "      <td>0</td>\n",
       "    </tr>\n",
       "    <tr>\n",
       "      <th>282</th>\n",
       "      <td>1</td>\n",
       "      <td>0</td>\n",
       "      <td>0</td>\n",
       "      <td>1</td>\n",
       "      <td>0</td>\n",
       "      <td>1</td>\n",
       "      <td>0</td>\n",
       "      <td>0</td>\n",
       "      <td>0</td>\n",
       "      <td>0</td>\n",
       "      <td>...</td>\n",
       "      <td>0</td>\n",
       "      <td>0</td>\n",
       "      <td>0</td>\n",
       "      <td>0</td>\n",
       "      <td>1</td>\n",
       "      <td>0</td>\n",
       "      <td>0</td>\n",
       "      <td>0</td>\n",
       "      <td>0</td>\n",
       "      <td>1</td>\n",
       "    </tr>\n",
       "    <tr>\n",
       "      <th>283</th>\n",
       "      <td>1</td>\n",
       "      <td>0</td>\n",
       "      <td>1</td>\n",
       "      <td>0</td>\n",
       "      <td>0</td>\n",
       "      <td>0</td>\n",
       "      <td>0</td>\n",
       "      <td>0</td>\n",
       "      <td>1</td>\n",
       "      <td>0</td>\n",
       "      <td>...</td>\n",
       "      <td>0</td>\n",
       "      <td>0</td>\n",
       "      <td>0</td>\n",
       "      <td>0</td>\n",
       "      <td>1</td>\n",
       "      <td>0</td>\n",
       "      <td>0</td>\n",
       "      <td>1</td>\n",
       "      <td>0</td>\n",
       "      <td>0</td>\n",
       "    </tr>\n",
       "    <tr>\n",
       "      <th>284</th>\n",
       "      <td>1</td>\n",
       "      <td>0</td>\n",
       "      <td>0</td>\n",
       "      <td>0</td>\n",
       "      <td>0</td>\n",
       "      <td>0</td>\n",
       "      <td>1</td>\n",
       "      <td>0</td>\n",
       "      <td>0</td>\n",
       "      <td>0</td>\n",
       "      <td>...</td>\n",
       "      <td>0</td>\n",
       "      <td>0</td>\n",
       "      <td>0</td>\n",
       "      <td>1</td>\n",
       "      <td>0</td>\n",
       "      <td>0</td>\n",
       "      <td>0</td>\n",
       "      <td>0</td>\n",
       "      <td>0</td>\n",
       "      <td>1</td>\n",
       "    </tr>\n",
       "    <tr>\n",
       "      <th>285</th>\n",
       "      <td>1</td>\n",
       "      <td>0</td>\n",
       "      <td>0</td>\n",
       "      <td>0</td>\n",
       "      <td>0</td>\n",
       "      <td>0</td>\n",
       "      <td>0</td>\n",
       "      <td>1</td>\n",
       "      <td>0</td>\n",
       "      <td>0</td>\n",
       "      <td>...</td>\n",
       "      <td>0</td>\n",
       "      <td>0</td>\n",
       "      <td>0</td>\n",
       "      <td>1</td>\n",
       "      <td>0</td>\n",
       "      <td>0</td>\n",
       "      <td>0</td>\n",
       "      <td>0</td>\n",
       "      <td>0</td>\n",
       "      <td>1</td>\n",
       "    </tr>\n",
       "  </tbody>\n",
       "</table>\n",
       "<p>277 rows × 39 columns</p>\n",
       "</div>"
      ],
      "text/plain": [
       "     Class  node caps  breast  irradiat  age_20-29  age_30-39  age_40-49  \\\n",
       "0        0          0       0         0          0          1          0   \n",
       "1        0          0       1         0          0          0          1   \n",
       "2        0          0       0         0          0          0          1   \n",
       "3        0          0       1         0          0          0          0   \n",
       "4        0          0       1         0          0          0          1   \n",
       "..     ...        ...     ...       ...        ...        ...        ...   \n",
       "281      1          0       0         0          0          1          0   \n",
       "282      1          0       0         1          0          1          0   \n",
       "283      1          0       1         0          0          0          0   \n",
       "284      1          0       0         0          0          0          1   \n",
       "285      1          0       0         0          0          0          0   \n",
       "\n",
       "     age_50-59  age_60-69  age_70-79  ...  inv nodes_6-8  inv nodes_9-11  \\\n",
       "0            0          0          0  ...              0               0   \n",
       "1            0          0          0  ...              0               0   \n",
       "2            0          0          0  ...              0               0   \n",
       "3            0          1          0  ...              0               0   \n",
       "4            0          0          0  ...              0               0   \n",
       "..         ...        ...        ...  ...            ...             ...   \n",
       "281          0          0          0  ...              0               0   \n",
       "282          0          0          0  ...              0               0   \n",
       "283          0          1          0  ...              0               0   \n",
       "284          0          0          0  ...              0               0   \n",
       "285          1          0          0  ...              0               0   \n",
       "\n",
       "     breast quad_central  breast quad_left_low  breast quad_left_up  \\\n",
       "0                      0                     1                    0   \n",
       "1                      0                     0                    0   \n",
       "2                      0                     1                    0   \n",
       "3                      0                     0                    1   \n",
       "4                      0                     0                    0   \n",
       "..                   ...                   ...                  ...   \n",
       "281                    0                     0                    1   \n",
       "282                    0                     0                    1   \n",
       "283                    0                     0                    1   \n",
       "284                    0                     1                    0   \n",
       "285                    0                     1                    0   \n",
       "\n",
       "     breast quad_right_low  breast quad_right_up  deg maling_1  deg maling_2  \\\n",
       "0                        0                     0             0             0   \n",
       "1                        0                     1             0             1   \n",
       "2                        0                     0             0             1   \n",
       "3                        0                     0             0             1   \n",
       "4                        1                     0             0             1   \n",
       "..                     ...                   ...           ...           ...   \n",
       "281                      0                     0             0             1   \n",
       "282                      0                     0             0             0   \n",
       "283                      0                     0             1             0   \n",
       "284                      0                     0             0             0   \n",
       "285                      0                     0             0             0   \n",
       "\n",
       "     deg maling_3  \n",
       "0               1  \n",
       "1               0  \n",
       "2               0  \n",
       "3               0  \n",
       "4               0  \n",
       "..            ...  \n",
       "281             0  \n",
       "282             1  \n",
       "283             0  \n",
       "284             1  \n",
       "285             1  \n",
       "\n",
       "[277 rows x 39 columns]"
      ]
     },
     "execution_count": 43,
     "metadata": {},
     "output_type": "execute_result"
    }
   ],
   "source": [
    "finaldataset\n"
   ]
  },
  {
   "cell_type": "markdown",
   "metadata": {},
   "source": [
    "Como se observa, ahora el finaldataset se puede considerar como un set de datos limpio."
   ]
  },
  {
   "cell_type": "markdown",
   "metadata": {},
   "source": [
    "# Aprendizaje Supervisado"
   ]
  },
  {
   "cell_type": "markdown",
   "metadata": {},
   "source": [
    "## Separando datos para test y training"
   ]
  },
  {
   "cell_type": "markdown",
   "metadata": {},
   "source": [
    "Se procede ya con la data lista a separar en test y training con una relacion 20%-80% respectivamente \n",
    "Para ello lo primero es definir los features y los labels, es importante mencionar que este tipo de problema es de clasificación , el output será si dadas ciertas condiciones la clase sera de una aparicion de cancer con recurrencia o no."
   ]
  },
  {
   "cell_type": "code",
   "execution_count": 45,
   "metadata": {},
   "outputs": [],
   "source": [
    "features = finaldataset.drop(['Class'], axis=1)\n",
    "label = finaldataset['Class']"
   ]
  },
  {
   "cell_type": "code",
   "execution_count": 46,
   "metadata": {},
   "outputs": [],
   "source": [
    "from sklearn.model_selection import train_test_split"
   ]
  },
  {
   "cell_type": "code",
   "execution_count": 47,
   "metadata": {},
   "outputs": [],
   "source": [
    "X_train, X_test, y_train, y_test = train_test_split(features, label, test_size=0.2, random_state=42) \n"
   ]
  },
  {
   "cell_type": "markdown",
   "metadata": {},
   "source": [
    "## Naive Bayes"
   ]
  },
  {
   "cell_type": "markdown",
   "metadata": {},
   "source": [
    "Hay distintos tipos de aproximaciones de Naive Bayes (algoritmo que se basa en la probabilidad condicional) el tipo de datos que se tienen se correlaciona directamente con la efectividad del modelo obtenida, por ejemplo un caso de fit gaussiano no es recomendado dado que no se cuenta con datos numericos de forma gaussiana o con grandes dimensiones de datos, notese que los Scores obtenidos no llegan ni si quiera al 50 %"
   ]
  },
  {
   "cell_type": "code",
   "execution_count": 49,
   "metadata": {},
   "outputs": [
    {
     "name": "stdout",
     "output_type": "stream",
     "text": [
      "Training set score: 0.371\n",
      "Test set score: 0.429\n"
     ]
    }
   ],
   "source": [
    "from sklearn.naive_bayes import GaussianNB\n",
    "nbg = GaussianNB().fit(X_train, y_train)\n",
    "print(\"Training set score: {:.3f}\".format(nbg.score(X_train, y_train)))\n",
    "print(\"Test set score: {:.3f}\".format(nbg.score(X_test, y_test)))"
   ]
  },
  {
   "cell_type": "markdown",
   "metadata": {},
   "source": [
    "Un modelo multinominal resulta ser más efectivo, dado que es más efectivo para datos categoricos (https://scikit-learn.org/stable/modules/generated/sklearn.naive_bayes.MultinomialNB.html#sklearn.naive_bayes.MultinomialNB) el score obtenido en ambos casos mejora considerablemente "
   ]
  },
  {
   "cell_type": "code",
   "execution_count": 50,
   "metadata": {},
   "outputs": [
    {
     "name": "stdout",
     "output_type": "stream",
     "text": [
      "Training set score: 0.792\n",
      "Test set score: 0.696\n"
     ]
    }
   ],
   "source": [
    "from sklearn.naive_bayes import MultinomialNB\n",
    "nbm = MultinomialNB().fit(X_train, y_train)\n",
    "print(\"Training set score: {:.3f}\".format(nbm.score(X_train, y_train)))\n",
    "print(\"Test set score: {:.3f}\".format(nbm.score(X_test, y_test)))\n"
   ]
  },
  {
   "cell_type": "markdown",
   "metadata": {},
   "source": [
    "El hiperparametro alpha del modelo conocido como parametro de suavizado, se puede ajustar obteniendo mejores resultados, se probaron varios parametros y en general alpha=0.3 es el que produce los resultados de score nmas alto y que no caen en overfitting dado que para el test y el score presentan la minima diferencia"
   ]
  },
  {
   "cell_type": "code",
   "execution_count": 71,
   "metadata": {},
   "outputs": [
    {
     "name": "stdout",
     "output_type": "stream",
     "text": [
      "Training set score: 0.810\n",
      "Test set score: 0.714\n"
     ]
    }
   ],
   "source": [
    "from sklearn.naive_bayes import MultinomialNB\n",
    "nbm = MultinomialNB(alpha=0.3).fit(X_train, y_train)\n",
    "print(\"Training set score: {:.3f}\".format(nbm.score(X_train, y_train)))\n",
    "print(\"Test set score: {:.3f}\".format(nbm.score(X_test, y_test)))\n"
   ]
  },
  {
   "cell_type": "markdown",
   "metadata": {},
   "source": [
    "## Máquinas de Vector de soporte"
   ]
  },
  {
   "cell_type": "markdown",
   "metadata": {},
   "source": [
    "Las maquinas de vector de soporte definen un limite de desicion para clasificar(lo cual es conveniente para el label class que es categorico), su algoritmo busca maximizar la distancia entre clases y a su vez minimizar la norma euclidiana"
   ]
  },
  {
   "cell_type": "code",
   "execution_count": 83,
   "metadata": {},
   "outputs": [
    {
     "name": "stdout",
     "output_type": "stream",
     "text": [
      "Accuracy on training set: 0.77\n",
      "Accuracy on test set: 0.64\n"
     ]
    }
   ],
   "source": [
    "\n",
    "from sklearn.svm import SVC\n",
    "\n",
    "svc = SVC(gamma='auto')\n",
    "svc.fit(X_train, y_train)\n",
    "print(\"Accuracy on training set: {:.2f}\".format(svc.score(X_train, y_train)))\n",
    "print(\"Accuracy on test set: {:.2f}\".format(svc.score(X_test, y_test)))"
   ]
  },
  {
   "cell_type": "markdown",
   "metadata": {},
   "source": [
    "notese que el hiperarametro gamma se tiene como auto, la otra variante que posee ademas es scale,probando dicha variante se obtiene lo siguiente"
   ]
  },
  {
   "cell_type": "code",
   "execution_count": 84,
   "metadata": {},
   "outputs": [
    {
     "name": "stdout",
     "output_type": "stream",
     "text": [
      "Accuracy on training set: 0.86\n",
      "Accuracy on test set: 0.73\n"
     ]
    }
   ],
   "source": [
    "\n",
    "from sklearn.svm import SVC\n",
    "\n",
    "svc = SVC(gamma='scale')\n",
    "svc.fit(X_train, y_train)\n",
    "print(\"Accuracy on training set: {:.2f}\".format(svc.score(X_train, y_train)))\n",
    "print(\"Accuracy on test set: {:.2f}\".format(svc.score(X_test, y_test)))"
   ]
  },
  {
   "cell_type": "markdown",
   "metadata": {},
   "source": [
    "Se tiene una mejora notoria al cambiar el hiperparametro gamma, por otro lado el tipo de kernel utilizado por defecto es el rbf, sin embargo existen 4 variantes más(https://scikit-learn.org/stable/modules/generated/sklearn.svm.SVC.html) al probarlas se obtienen algunos resultados que vale la pena destacar"
   ]
  },
  {
   "cell_type": "code",
   "execution_count": 85,
   "metadata": {},
   "outputs": [
    {
     "name": "stdout",
     "output_type": "stream",
     "text": [
      "Accuracy on training set: 0.72\n",
      "Accuracy on test set: 0.68\n"
     ]
    }
   ],
   "source": [
    "from sklearn.svm import SVC\n",
    "\n",
    "svc = SVC(gamma='scale',kernel='sigmoid')\n",
    "svc.fit(X_train, y_train)\n",
    "print(\"Accuracy on training set: {:.2f}\".format(svc.score(X_train, y_train)))\n",
    "print(\"Accuracy on test set: {:.2f}\".format(svc.score(X_test, y_test)))"
   ]
  },
  {
   "cell_type": "markdown",
   "metadata": {},
   "source": [
    "Primeramente para las variantes de kernel (exceptuando poly) no presenta mejoras en el score, en la celda anterior se muestra el caso de sigmoid, ahora bien el caso del Kernel polinomico se estudia por aparte "
   ]
  },
  {
   "cell_type": "code",
   "execution_count": 86,
   "metadata": {},
   "outputs": [
    {
     "name": "stdout",
     "output_type": "stream",
     "text": [
      "Accuracy on training set: 0.91\n",
      "Accuracy on test set: 0.73\n"
     ]
    }
   ],
   "source": [
    "from sklearn.svm import SVC\n",
    "\n",
    "svc = SVC(gamma='scale',kernel='poly')\n",
    "svc.fit(X_train, y_train)\n",
    "print(\"Accuracy on training set: {:.2f}\".format(svc.score(X_train, y_train)))\n",
    "print(\"Accuracy on test set: {:.2f}\".format(svc.score(X_test, y_test)))"
   ]
  },
  {
   "cell_type": "markdown",
   "metadata": {},
   "source": [
    "se optiene una mejora notoria en el score del set de training,sin embargo, el test en comparacion tiene un performance mucho menor, posiblemente este sea un caso de overfitting, el kernel poly habilita otro hiperparametro llamado degree que se refiere al grado del polinomio utilizado para el ajuste, el valor por defecto es de 3, a continuacion se estudia como se comporta el modelo al variar dicho grado.  "
   ]
  },
  {
   "cell_type": "code",
   "execution_count": 90,
   "metadata": {},
   "outputs": [
    {
     "name": "stdout",
     "output_type": "stream",
     "text": [
      "Accuracy on training set: 0.98\n",
      "Accuracy on test set: 0.59\n"
     ]
    }
   ],
   "source": [
    "from sklearn.svm import SVC\n",
    "\n",
    "svc = SVC(gamma='scale',kernel='poly', degree=8)\n",
    "svc.fit(X_train, y_train)\n",
    "print(\"Accuracy on training set: {:.2f}\".format(svc.score(X_train, y_train)))\n",
    "print(\"Accuracy on test set: {:.2f}\".format(svc.score(X_test, y_test)))"
   ]
  },
  {
   "cell_type": "code",
   "execution_count": 91,
   "metadata": {},
   "outputs": [
    {
     "name": "stdout",
     "output_type": "stream",
     "text": [
      "Accuracy on training set: 0.87\n",
      "Accuracy on test set: 0.75\n"
     ]
    }
   ],
   "source": [
    "from sklearn.svm import SVC\n",
    "\n",
    "svc = SVC(gamma='scale',kernel='poly', degree=2)\n",
    "svc.fit(X_train, y_train)\n",
    "print(\"Accuracy on training set: {:.2f}\".format(svc.score(X_train, y_train)))\n",
    "print(\"Accuracy on test set: {:.2f}\".format(svc.score(X_test, y_test)))"
   ]
  },
  {
   "cell_type": "markdown",
   "metadata": {},
   "source": [
    "Como es de esperarse al aumentar el grado del polinomio la tendencia hacia el overfiting es mas evidente, sin embargo al escoger un modelo de polinomio cuadratico (disminuir un grado respecto al default) se obtienen los mejores resultados hasta ahora para el conjunto de training y test."
   ]
  },
  {
   "cell_type": "markdown",
   "metadata": {},
   "source": [
    "## K nearest neighbors "
   ]
  },
  {
   "cell_type": "markdown",
   "metadata": {},
   "source": [
    "Los algotimos de KNN permiten establecer relaciones locales respecto a los vecinos cercanos k (hiperarametro del modelo que define cuantos vecinos considerar) y permite calsificar generando un limite de decisión, se procede entonces a hacer un barrido de valores k para encontrar graficamente un punto adecuado "
   ]
  },
  {
   "cell_type": "code",
   "execution_count": 98,
   "metadata": {},
   "outputs": [
    {
     "data": {
      "text/plain": [
       "<matplotlib.legend.Legend at 0x1b73ea8e370>"
      ]
     },
     "execution_count": 98,
     "metadata": {},
     "output_type": "execute_result"
    },
    {
     "data": {
      "image/png": "[encoded data removed]",
      "text/plain": [
       "<Figure size 432x288 with 1 Axes>"
      ]
     },
     "metadata": {
      "needs_background": "light"
     },
     "output_type": "display_data"
    }
   ],
   "source": [
    "from sklearn.neighbors import KNeighborsClassifier \n",
    "training_accuracy = []\n",
    "test_accuracy = [] \n",
    "plt.style.use('ggplot')\n",
    "%matplotlib inline\n",
    "\n",
    "neighbors_settings = range(1, 18)\n",
    "for n_neighbors in neighbors_settings:\n",
    "    # se construye el modelo de clasificacion\n",
    "    clf = KNeighborsClassifier(n_neighbors=n_neighbors)\n",
    "    clf.fit(X_train, y_train)\n",
    "    # se almacena el \"training set accuracy\"\n",
    "    training_accuracy.append(clf.score(X_train, y_train))\n",
    "    # se almacena la \"generalization accuracy\"\n",
    "    test_accuracy.append(clf.score(X_test, y_test))\n",
    "plt.plot(neighbors_settings, training_accuracy, label=\"training accuracy\")\n",
    "plt.plot(neighbors_settings, test_accuracy, label=\"test accuracy\")\n",
    "plt.ylabel(\"Accuracy\")\n",
    "plt.xlabel(\"n_neighbors\")\n",
    "plt.legend()"
   ]
  },
  {
   "cell_type": "markdown",
   "metadata": {},
   "source": [
    "Como se observa el valor de k =13 es el que genera la mejor precision para el test y ademas respecto al training no se observa un overfiting"
   ]
  },
  {
   "cell_type": "code",
   "execution_count": 101,
   "metadata": {},
   "outputs": [
    {
     "name": "stdout",
     "output_type": "stream",
     "text": [
      "Training set score:\n",
      "0.8009049773755657\n",
      "Test set score:\n",
      "0.7142857142857143\n"
     ]
    }
   ],
   "source": [
    "    # se construye el modelo de clasificacion\n",
    "    clf = KNeighborsClassifier(n_neighbors=13)\n",
    "    clf.fit(X_train, y_train)\n",
    "    print(\"Training set score:\")\n",
    "    print(clf.score(X_train, y_train))\n",
    "    print(\"Test set score:\")\n",
    "    print(clf.score(X_test, y_test))\n",
    "  \n"
   ]
  },
  {
   "cell_type": "markdown",
   "metadata": {},
   "source": [
    "## Métodos de ensamble "
   ]
  },
  {
   "cell_type": "markdown",
   "metadata": {},
   "source": [
    "su objetivo es mejorar el rendimiento de los modelos de ML al combinar distintas fuentes de modelos de aprendizaje supervisados y combinar la informacion obtenida de cada uno de estos modelos, en otras palabras el ensamblado permite conmbinar un conjunto de diversos modelos, promediando errores y produciendo en general mejores predicciones\n",
    "\n",
    "Algunos ejemplos son: \n",
    "\n",
    "-Agregacion Boostrap o Bagging: donde se eligen al azar elementos del dataset y se subdivide en subsets se entrena cada uno de manera individual y luego el resultado es el conjunto de todos los submodelos. \n",
    "\n",
    "-Boosting:Es una tecnica de aprendizaje secuencial, se entrena un modelo con todo el conjunto de entrenamiento, para luego ir ajustando nuevos modelos basandose en el error residual.\n",
    "\n",
    "\n",
    "Los métodos de ensamble usualmente se clasifican en dos tipos los de promedio que divide en subsets y luego toma un promedio de las predicciones como el primer ejemplo y en y los secuenciales que van cmodificando los subsets partiendo del inicial como el segundo ejemplo. \n",
    "\n"
   ]
  },
  {
   "cell_type": "markdown",
   "metadata": {},
   "source": [
    "## AdaBoost Classifier "
   ]
  },
  {
   "cell_type": "markdown",
   "metadata": {},
   "source": [
    "El AdaBoost como su nombre lo indica es un metodo de ensamble tipo boosting que para cada iteracion de la secuencia le da más enfásis a los casos que han presentado mayor dificultad (https://scikit-learn.org/stable/modules/generated/sklearn.ensemble.AdaBoostClassifier.html#sklearn.ensemble.AdaBoostClassifier)\n",
    "corriendo el algoritmo se obtiene:"
   ]
  },
  {
   "cell_type": "code",
   "execution_count": 135,
   "metadata": {},
   "outputs": [
    {
     "name": "stdout",
     "output_type": "stream",
     "text": [
      "Training set score:\n",
      "0.7782805429864253\n",
      "Test set score:\n",
      "0.6785714285714286\n"
     ]
    }
   ],
   "source": [
    "from sklearn.ensemble import AdaBoostClassifier\n",
    "from sklearn.datasets import make_classification\n",
    "clf = AdaBoostClassifier()\n",
    "clf.fit(X_train, y_train) \n",
    "print(\"Training set score:\")\n",
    "print(clf.score(X_train, y_train))\n",
    "print(\"Test set score:\")\n",
    "print(clf.score(X_test, y_test))\n",
    "  "
   ]
  },
  {
   "cell_type": "markdown",
   "metadata": {},
   "source": [
    "Ahora variando los hiperparametros se pueden mejorar los resultados de score, cabe mencionar que el hiperparametro de algorithm mejora el rendimiento al pasar de SAMME.R a SAMME dado qwue la data con la que se esta trabajando es discreta "
   ]
  },
  {
   "cell_type": "code",
   "execution_count": 134,
   "metadata": {},
   "outputs": [
    {
     "name": "stdout",
     "output_type": "stream",
     "text": [
      "Training set score:\n",
      "0.7918552036199095\n",
      "Test set score:\n",
      "0.7142857142857143\n"
     ]
    }
   ],
   "source": [
    "from sklearn.ensemble import AdaBoostClassifier\n",
    "from sklearn.datasets import make_classification\n",
    "clf = AdaBoostClassifier(n_estimators=20, random_state=None, algorithm='SAMME')\n",
    "clf.fit(X_train, y_train) \n",
    "print(\"Training set score:\")\n",
    "print(clf.score(X_train, y_train))\n",
    "print(\"Test set score:\")\n",
    "print(clf.score(X_test, y_test))\n",
    "  "
   ]
  },
  {
   "cell_type": "markdown",
   "metadata": {},
   "source": [
    "# Conclusiones"
   ]
  },
  {
   "cell_type": "markdown",
   "metadata": {},
   "source": [
    "A modo de resumen se preprocesaron los datos con one hot y clasificacion binario, el conjunto de datos era en general categorico y el problema era de tipo clasificatorio, se obtuvo el mejor resultado al utilizar el modelo de aprendizaje supervisado de maquina de vector de soporte con kernel polinomico de segundo grado para valores de Accuracy on training set: 0.87 y\n",
    "Accuracy on test set: 0.75 \n",
    "\n",
    "Con respecto al método de ensamble AdaBoost se logro encontrar parametros para obtener scores aceptables en comparación con los obtenidos en los metodos individuales, sin embargo se sugiere para futuros estudios estudios intentar implementar otros metodos de ensamble para mejorar los resultados."
   ]
  }
 ],
 "metadata": {
  "colab": {
   "name": "InvCorta2.ipynb",
   "provenance": []
  },
  "kernelspec": {
   "display_name": "Python 3",
   "language": "python",
   "name": "python3"
  },
  "language_info": {
   "codemirror_mode": {
    "name": "ipython",
    "version": 3
   },
   "file_extension": ".py",
   "mimetype": "text/x-python",
   "name": "python",
   "nbconvert_exporter": "python",
   "pygments_lexer": "ipython3",
   "version": "3.8.8"
  }
 },
 "nbformat": 4,
 "nbformat_minor": 1
}
